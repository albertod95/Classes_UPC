{
 "cells": [
  {
   "cell_type": "markdown",
   "metadata": {},
   "source": [
    "# Python kick-off"
   ]
  },
  {
   "cell_type": "markdown",
   "metadata": {},
   "source": [
    "The Python standard library is documented at https://docs.python.org/3/library/ and include basic functions like `print`."
   ]
  },
  {
   "cell_type": "markdown",
   "metadata": {},
   "source": [
    "Specialised tools, such as pandapower, are usually made available in other libraries (modules).\n",
    "For example NumPy (http://www.numpy.org/) functions for numerical computation, very similar to what we can do in MATLAB."
   ]
  },
  {
   "cell_type": "markdown",
   "metadata": {},
   "source": [
    "To use a function from a module we need to make it available in our program , what is called as 'importing'. "
   ]
  },
  {
   "cell_type": "code",
   "execution_count": 1,
   "metadata": {},
   "outputs": [],
   "source": [
    "import pandapower as pp\n",
    "from pandapower.plotting import simple_plotly, pf_res_plotly"
   ]
  },
  {
   "cell_type": "code",
   "execution_count": 2,
   "metadata": {},
   "outputs": [],
   "source": [
    "import numpy as np\n",
    "import copy"
   ]
  },
  {
   "cell_type": "markdown",
   "metadata": {},
   "source": [
    "Basic functionalities of Python"
   ]
  },
  {
   "cell_type": "code",
   "execution_count": 3,
   "metadata": {},
   "outputs": [
    {
     "name": "stdout",
     "output_type": "stream",
     "text": [
      "8\n"
     ]
    }
   ],
   "source": [
    "#Declare and call a function\n",
    "def sum_and_increment(a, b):\n",
    "    \"\"\"\"Return the sum of a and b, plus 1\"\"\"\n",
    "    return a + b + 1\n",
    "# N.B. Python is sensible to indentation!!\n",
    "\n",
    "# Call the function\n",
    "m = sum_and_increment(3, 4)\n",
    "print(m)  # Expect 8"
   ]
  },
  {
   "attachments": {
    "formula.PNG": {
     "image/png": "[encoded data removed]"
    }
   },
   "cell_type": "markdown",
   "metadata": {},
   "source": [
    "![formula.PNG](attachment:formula.PNG)"
   ]
  },
  {
   "cell_type": "code",
   "execution_count": 4,
   "metadata": {},
   "outputs": [],
   "source": [
    "def get_reactive(P,PF):\n",
    "    \"\"\"\" Calculate reactive power from Active power and Power Factor \"\"\"\n",
    "    return P*np.tan(np.arccos(PF))"
   ]
  },
  {
   "cell_type": "markdown",
   "metadata": {},
   "source": [
    "# Basic types:"
   ]
  },
  {
   "cell_type": "code",
   "execution_count": 6,
   "metadata": {},
   "outputs": [
    {
     "name": "stdout",
     "output_type": "stream",
     "text": [
      "This is a string.\n",
      "<class 'str'>\n"
     ]
    }
   ],
   "source": [
    "my_string = \"This is a string.\"\n",
    "print(my_string)\n",
    "print(type(my_string))"
   ]
  },
  {
   "cell_type": "code",
   "execution_count": 7,
   "metadata": {},
   "outputs": [
    {
     "name": "stdout",
     "output_type": "stream",
     "text": [
      "i\n",
      "<class 'str'>\n"
     ]
    }
   ],
   "source": [
    "# Get 3rd character (Python counts from zero!)\n",
    "s2 = my_string[2]\n",
    "print(s2)\n",
    "print(type(s2))"
   ]
  },
  {
   "cell_type": "code",
   "execution_count": 8,
   "metadata": {},
   "outputs": [
    {
     "name": "stdout",
     "output_type": "stream",
     "text": [
      "<class 'bool'>\n",
      "<class 'str'>\n",
      "<class 'int'>\n",
      "<class 'float'>\n"
     ]
    }
   ],
   "source": [
    "x = True\n",
    "print(type(x))\n",
    "\n",
    "name = 'Sara'\n",
    "print(type(name))\n",
    "\n",
    "age = 20\n",
    "print(type(age))\n",
    "\n",
    "money = 20.\n",
    "print(type(money))"
   ]
  },
  {
   "cell_type": "code",
   "execution_count": 9,
   "metadata": {},
   "outputs": [
    {
     "name": "stdout",
     "output_type": "stream",
     "text": [
      "My name is Sara and I am 20 years old and I have 20.0 bucks.\n"
     ]
    }
   ],
   "source": [
    "text_string = \"My name is {} and I am {} years old and I have {} bucks.\".format(name, age, money)\n",
    "print(text_string)"
   ]
  },
  {
   "cell_type": "markdown",
   "metadata": {},
   "source": [
    "# Simple Data Structures"
   ]
  },
  {
   "cell_type": "markdown",
   "metadata": {},
   "source": [
    "`list`. Similar to `array` in Matlab but can contain different types of variables:"
   ]
  },
  {
   "cell_type": "code",
   "execution_count": 10,
   "metadata": {},
   "outputs": [
    {
     "data": {
      "text/plain": [
       "[]"
      ]
     },
     "execution_count": 10,
     "metadata": {},
     "output_type": "execute_result"
    }
   ],
   "source": [
    "empty = [] #create an empty list\n",
    "empty"
   ]
  },
  {
   "cell_type": "code",
   "execution_count": 11,
   "metadata": {},
   "outputs": [
    {
     "data": {
      "text/plain": [
       "['Sara', 20, 20.0]"
      ]
     },
     "execution_count": 11,
     "metadata": {},
     "output_type": "execute_result"
    }
   ],
   "source": [
    "list0 = ['Sara', 20, 20.]\n",
    "list0"
   ]
  },
  {
   "cell_type": "code",
   "execution_count": 12,
   "metadata": {},
   "outputs": [
    {
     "data": {
      "text/plain": [
       "['Sara', 20, 20.0]"
      ]
     },
     "execution_count": 12,
     "metadata": {},
     "output_type": "execute_result"
    }
   ],
   "source": [
    "list1 = [name, age, money]\n",
    "list1"
   ]
  },
  {
   "cell_type": "markdown",
   "metadata": {},
   "source": [
    "Let's iterate over a `list`:"
   ]
  },
  {
   "cell_type": "code",
   "execution_count": 13,
   "metadata": {},
   "outputs": [
    {
     "name": "stdout",
     "output_type": "stream",
     "text": [
      "Sara\n",
      "20\n",
      "20.0\n"
     ]
    }
   ],
   "source": [
    "for element in list1:\n",
    "    print(element)"
   ]
  },
  {
   "cell_type": "markdown",
   "metadata": {},
   "source": [
    "Let's use the function `enumerate` to get the position and the element of the list"
   ]
  },
  {
   "cell_type": "code",
   "execution_count": 14,
   "metadata": {},
   "outputs": [
    {
     "name": "stdout",
     "output_type": "stream",
     "text": [
      "The element number 1 of the list is Sara.\n",
      "The element number 2 of the list is 20.\n",
      "The element number 3 of the list is 20.0.\n"
     ]
    }
   ],
   "source": [
    "for position, element in enumerate(list1):\n",
    "    text_string = 'The element number {} of the list is {}.'.format(position+1, element)\n",
    "    print(text_string)"
   ]
  },
  {
   "cell_type": "markdown",
   "metadata": {},
   "source": [
    "Indexing in a `list`:"
   ]
  },
  {
   "cell_type": "code",
   "execution_count": 15,
   "metadata": {},
   "outputs": [
    {
     "name": "stdout",
     "output_type": "stream",
     "text": [
      "20.0\n"
     ]
    }
   ],
   "source": [
    "third_element = list1[2]\n",
    "print(third_element)"
   ]
  },
  {
   "cell_type": "markdown",
   "metadata": {},
   "source": [
    "`tuple`. Like a `list` but once assigned values cannot be changed."
   ]
  },
  {
   "cell_type": "code",
   "execution_count": 16,
   "metadata": {},
   "outputs": [
    {
     "data": {
      "text/plain": [
       "('Sara', 20, 20.0)"
      ]
     },
     "execution_count": 16,
     "metadata": {},
     "output_type": "execute_result"
    }
   ],
   "source": [
    "tuple_1 = ('Sara', 20, 20.)\n",
    "tuple_1"
   ]
  },
  {
   "cell_type": "markdown",
   "metadata": {},
   "source": [
    "`dictionary`"
   ]
  },
  {
   "cell_type": "code",
   "execution_count": 17,
   "metadata": {},
   "outputs": [
    {
     "name": "stdout",
     "output_type": "stream",
     "text": [
      "{'name': 'Sara', 'age': 20, 'money': 20.0}\n",
      "dict_keys(['name', 'age', 'money'])\n",
      "dict_values(['Sara', 20, 20.0])\n"
     ]
    }
   ],
   "source": [
    "dictionary1 = {'name': 'Sara', 'age': 20 , 'money': 20.}\n",
    "print(dictionary1)\n",
    "print(dictionary1.keys())\n",
    "print(dictionary1.values())"
   ]
  },
  {
   "cell_type": "markdown",
   "metadata": {},
   "source": [
    "# Pandas"
   ]
  },
  {
   "cell_type": "markdown",
   "metadata": {},
   "source": [
    "Most popular Python library for data analysis"
   ]
  },
  {
   "cell_type": "code",
   "execution_count": 18,
   "metadata": {},
   "outputs": [],
   "source": [
    "import pandas as pd"
   ]
  },
  {
   "cell_type": "markdown",
   "metadata": {},
   "source": [
    "`DataFrame` is like a `table` in Matlab. "
   ]
  },
  {
   "cell_type": "markdown",
   "metadata": {},
   "source": [
    "To create a `DataFrame` we can pass a `dictionary` to the function inside pandas library `pd.DataFrame()`"
   ]
  },
  {
   "cell_type": "code",
   "execution_count": 19,
   "metadata": {},
   "outputs": [
    {
     "data": {
      "text/html": [
       "<div>\n",
       "<style scoped>\n",
       "    .dataframe tbody tr th:only-of-type {\n",
       "        vertical-align: middle;\n",
       "    }\n",
       "\n",
       "    .dataframe tbody tr th {\n",
       "        vertical-align: top;\n",
       "    }\n",
       "\n",
       "    .dataframe thead th {\n",
       "        text-align: right;\n",
       "    }\n",
       "</style>\n",
       "<table border=\"1\" class=\"dataframe\">\n",
       "  <thead>\n",
       "    <tr style=\"text-align: right;\">\n",
       "      <th></th>\n",
       "      <th>Product_A</th>\n",
       "      <th>Product_B</th>\n",
       "    </tr>\n",
       "  </thead>\n",
       "  <tbody>\n",
       "    <tr>\n",
       "      <th>0</th>\n",
       "      <td>50</td>\n",
       "      <td>131</td>\n",
       "    </tr>\n",
       "    <tr>\n",
       "      <th>1</th>\n",
       "      <td>47</td>\n",
       "      <td>120</td>\n",
       "    </tr>\n",
       "  </tbody>\n",
       "</table>\n",
       "</div>"
      ],
      "text/plain": [
       "   Product_A  Product_B\n",
       "0         50        131\n",
       "1         47        120"
      ]
     },
     "execution_count": 19,
     "metadata": {},
     "output_type": "execute_result"
    }
   ],
   "source": [
    "dictionary1 = {'Product_A': [50, 47], 'Product_B': [131, 120]}\n",
    "df = pd.DataFrame(dictionary1)\n",
    "df"
   ]
  },
  {
   "cell_type": "code",
   "execution_count": 20,
   "metadata": {},
   "outputs": [
    {
     "data": {
      "text/html": [
       "<div>\n",
       "<style scoped>\n",
       "    .dataframe tbody tr th:only-of-type {\n",
       "        vertical-align: middle;\n",
       "    }\n",
       "\n",
       "    .dataframe tbody tr th {\n",
       "        vertical-align: top;\n",
       "    }\n",
       "\n",
       "    .dataframe thead th {\n",
       "        text-align: right;\n",
       "    }\n",
       "</style>\n",
       "<table border=\"1\" class=\"dataframe\">\n",
       "  <thead>\n",
       "    <tr style=\"text-align: right;\">\n",
       "      <th></th>\n",
       "      <th>Product_A</th>\n",
       "      <th>Product_B</th>\n",
       "    </tr>\n",
       "  </thead>\n",
       "  <tbody>\n",
       "    <tr>\n",
       "      <th>Seller_1</th>\n",
       "      <td>50</td>\n",
       "      <td>131</td>\n",
       "    </tr>\n",
       "    <tr>\n",
       "      <th>Seller_2</th>\n",
       "      <td>47</td>\n",
       "      <td>120</td>\n",
       "    </tr>\n",
       "  </tbody>\n",
       "</table>\n",
       "</div>"
      ],
      "text/plain": [
       "          Product_A  Product_B\n",
       "Seller_1         50        131\n",
       "Seller_2         47        120"
      ]
     },
     "execution_count": 20,
     "metadata": {},
     "output_type": "execute_result"
    }
   ],
   "source": [
    "df.index=['Seller_1', 'Seller_2']\n",
    "df"
   ]
  },
  {
   "cell_type": "markdown",
   "metadata": {},
   "source": [
    "What I am doing here is to look inside the `DataFrame` and look at the `attribute` that shows indexes"
   ]
  },
  {
   "cell_type": "markdown",
   "metadata": {},
   "source": [
    "There are several ways to access data of a DataFrame. For more info: https://pandas.pydata.org/pandas-docs/stable/user_guide/indexing.html"
   ]
  },
  {
   "cell_type": "code",
   "execution_count": 21,
   "metadata": {},
   "outputs": [
    {
     "data": {
      "text/plain": [
       "Seller_1    50\n",
       "Seller_2    47\n",
       "Name: Product_A, dtype: int64"
      ]
     },
     "execution_count": 21,
     "metadata": {},
     "output_type": "execute_result"
    }
   ],
   "source": [
    "df.Product_A #attribute"
   ]
  },
  {
   "cell_type": "markdown",
   "metadata": {},
   "source": [
    "To get the first row of data we can use `iloc` (Index-based selection)"
   ]
  },
  {
   "cell_type": "code",
   "execution_count": 22,
   "metadata": {},
   "outputs": [
    {
     "data": {
      "text/plain": [
       "Product_A     50\n",
       "Product_B    131\n",
       "Name: Seller_1, dtype: int64"
      ]
     },
     "execution_count": 22,
     "metadata": {},
     "output_type": "execute_result"
    }
   ],
   "source": [
    "df.iloc[0] #the order is row-column"
   ]
  },
  {
   "cell_type": "code",
   "execution_count": 23,
   "metadata": {},
   "outputs": [
    {
     "data": {
      "text/plain": [
       "Seller_1    50\n",
       "Seller_2    47\n",
       "Name: Product_A, dtype: int64"
      ]
     },
     "execution_count": 23,
     "metadata": {},
     "output_type": "execute_result"
    }
   ],
   "source": [
    "df.iloc[:,0]"
   ]
  },
  {
   "cell_type": "code",
   "execution_count": 24,
   "metadata": {},
   "outputs": [
    {
     "name": "stdout",
     "output_type": "stream",
     "text": [
      "<class 'pandas.core.series.Series'>\n"
     ]
    }
   ],
   "source": [
    "print(type(df.iloc[0]))"
   ]
  },
  {
   "cell_type": "markdown",
   "metadata": {},
   "source": [
    "A series is like a vector of a table, or like a `DataFrame` of just one column."
   ]
  },
  {
   "cell_type": "markdown",
   "metadata": {},
   "source": [
    "Or `loc` (Label-based selection): "
   ]
  },
  {
   "cell_type": "code",
   "execution_count": 25,
   "metadata": {},
   "outputs": [
    {
     "data": {
      "text/html": [
       "<div>\n",
       "<style scoped>\n",
       "    .dataframe tbody tr th:only-of-type {\n",
       "        vertical-align: middle;\n",
       "    }\n",
       "\n",
       "    .dataframe tbody tr th {\n",
       "        vertical-align: top;\n",
       "    }\n",
       "\n",
       "    .dataframe thead th {\n",
       "        text-align: right;\n",
       "    }\n",
       "</style>\n",
       "<table border=\"1\" class=\"dataframe\">\n",
       "  <thead>\n",
       "    <tr style=\"text-align: right;\">\n",
       "      <th></th>\n",
       "      <th>Product_A</th>\n",
       "      <th>Product_B</th>\n",
       "    </tr>\n",
       "  </thead>\n",
       "  <tbody>\n",
       "    <tr>\n",
       "      <th>Seller_1</th>\n",
       "      <td>50</td>\n",
       "      <td>131</td>\n",
       "    </tr>\n",
       "    <tr>\n",
       "      <th>Seller_2</th>\n",
       "      <td>47</td>\n",
       "      <td>120</td>\n",
       "    </tr>\n",
       "  </tbody>\n",
       "</table>\n",
       "</div>"
      ],
      "text/plain": [
       "          Product_A  Product_B\n",
       "Seller_1         50        131\n",
       "Seller_2         47        120"
      ]
     },
     "execution_count": 25,
     "metadata": {},
     "output_type": "execute_result"
    }
   ],
   "source": [
    "df"
   ]
  },
  {
   "cell_type": "code",
   "execution_count": 26,
   "metadata": {},
   "outputs": [
    {
     "data": {
      "text/plain": [
       "Product_A     50\n",
       "Product_B    131\n",
       "Name: Seller_1, dtype: int64"
      ]
     },
     "execution_count": 26,
     "metadata": {},
     "output_type": "execute_result"
    }
   ],
   "source": [
    "df.loc['Seller_1'] #the order is row-column"
   ]
  },
  {
   "cell_type": "code",
   "execution_count": 27,
   "metadata": {},
   "outputs": [
    {
     "data": {
      "text/plain": [
       "Seller_1    50\n",
       "Seller_2    47\n",
       "Name: Product_A, dtype: int64"
      ]
     },
     "execution_count": 27,
     "metadata": {},
     "output_type": "execute_result"
    }
   ],
   "source": [
    "df.loc[:,'Product_A']"
   ]
  },
  {
   "cell_type": "markdown",
   "metadata": {},
   "source": [
    "Let's take another DataFrame"
   ]
  },
  {
   "cell_type": "code",
   "execution_count": 28,
   "metadata": {},
   "outputs": [
    {
     "data": {
      "text/html": [
       "<div>\n",
       "<style scoped>\n",
       "    .dataframe tbody tr th:only-of-type {\n",
       "        vertical-align: middle;\n",
       "    }\n",
       "\n",
       "    .dataframe tbody tr th {\n",
       "        vertical-align: top;\n",
       "    }\n",
       "\n",
       "    .dataframe thead th {\n",
       "        text-align: right;\n",
       "    }\n",
       "</style>\n",
       "<table border=\"1\" class=\"dataframe\">\n",
       "  <thead>\n",
       "    <tr style=\"text-align: right;\">\n",
       "      <th></th>\n",
       "      <th>P1</th>\n",
       "      <th>P2</th>\n",
       "    </tr>\n",
       "  </thead>\n",
       "  <tbody>\n",
       "    <tr>\n",
       "      <th>0</th>\n",
       "      <td>0</td>\n",
       "      <td>2</td>\n",
       "    </tr>\n",
       "    <tr>\n",
       "      <th>1</th>\n",
       "      <td>1</td>\n",
       "      <td>3</td>\n",
       "    </tr>\n",
       "  </tbody>\n",
       "</table>\n",
       "</div>"
      ],
      "text/plain": [
       "   P1  P2\n",
       "0   0   2\n",
       "1   1   3"
      ]
     },
     "execution_count": 28,
     "metadata": {},
     "output_type": "execute_result"
    }
   ],
   "source": [
    "df1 = pd.DataFrame({'P1': [0, 1], 'P2': [2, 3]})\n",
    "df1"
   ]
  },
  {
   "cell_type": "markdown",
   "metadata": {},
   "source": [
    "`append` method adds rows to a `DataFrame`"
   ]
  },
  {
   "cell_type": "code",
   "execution_count": 29,
   "metadata": {},
   "outputs": [],
   "source": [
    "df2 = pd.DataFrame({'P1': [40, 100], 'P2': [20, 30]})\n",
    "df1 = df1.append(df2, ignore_index= True)"
   ]
  },
  {
   "cell_type": "markdown",
   "metadata": {},
   "source": [
    "# Data analysis"
   ]
  },
  {
   "cell_type": "markdown",
   "metadata": {},
   "source": [
    "`loc` canalso accept `booleans`: this is pretty useful when we want to access data based on particular logic conditions."
   ]
  },
  {
   "cell_type": "markdown",
   "metadata": {},
   "source": [
    "Let's say we want to get the row of the seller that sells the product A < 50"
   ]
  },
  {
   "cell_type": "code",
   "execution_count": 30,
   "metadata": {},
   "outputs": [
    {
     "data": {
      "text/plain": [
       "Seller_1    False\n",
       "Seller_2     True\n",
       "Name: Product_A, dtype: bool"
      ]
     },
     "execution_count": 30,
     "metadata": {},
     "output_type": "execute_result"
    }
   ],
   "source": [
    "df.Product_A < 50"
   ]
  },
  {
   "cell_type": "code",
   "execution_count": 31,
   "metadata": {},
   "outputs": [
    {
     "data": {
      "text/html": [
       "<div>\n",
       "<style scoped>\n",
       "    .dataframe tbody tr th:only-of-type {\n",
       "        vertical-align: middle;\n",
       "    }\n",
       "\n",
       "    .dataframe tbody tr th {\n",
       "        vertical-align: top;\n",
       "    }\n",
       "\n",
       "    .dataframe thead th {\n",
       "        text-align: right;\n",
       "    }\n",
       "</style>\n",
       "<table border=\"1\" class=\"dataframe\">\n",
       "  <thead>\n",
       "    <tr style=\"text-align: right;\">\n",
       "      <th></th>\n",
       "      <th>Product_A</th>\n",
       "      <th>Product_B</th>\n",
       "    </tr>\n",
       "  </thead>\n",
       "  <tbody>\n",
       "    <tr>\n",
       "      <th>Seller_2</th>\n",
       "      <td>47</td>\n",
       "      <td>120</td>\n",
       "    </tr>\n",
       "  </tbody>\n",
       "</table>\n",
       "</div>"
      ],
      "text/plain": [
       "          Product_A  Product_B\n",
       "Seller_2         47        120"
      ]
     },
     "execution_count": 31,
     "metadata": {},
     "output_type": "execute_result"
    }
   ],
   "source": [
    "df.loc[df.Product_A < 50]"
   ]
  },
  {
   "cell_type": "markdown",
   "metadata": {},
   "source": [
    "This can be useful for many applications"
   ]
  },
  {
   "cell_type": "markdown",
   "metadata": {},
   "source": [
    "# Data visualization"
   ]
  },
  {
   "cell_type": "code",
   "execution_count": 32,
   "metadata": {},
   "outputs": [],
   "source": [
    "import matplotlib.pyplot as plt"
   ]
  },
  {
   "cell_type": "code",
   "execution_count": 33,
   "metadata": {},
   "outputs": [
    {
     "data": {
      "text/plain": [
       "[<matplotlib.lines.Line2D at 0x20cd7f77fc8>]"
      ]
     },
     "execution_count": 33,
     "metadata": {},
     "output_type": "execute_result"
    },
    {
     "data": {
      "image/png": "[encoded data removed]",
      "text/plain": [
       "<Figure size 432x288 with 1 Axes>"
      ]
     },
     "metadata": {
      "needs_background": "light"
     },
     "output_type": "display_data"
    }
   ],
   "source": [
    "plt.plot([1,2,3],[1,4,3])"
   ]
  },
  {
   "cell_type": "code",
   "execution_count": 34,
   "metadata": {},
   "outputs": [
    {
     "data": {
      "text/plain": [
       "<matplotlib.legend.Legend at 0x20cdd9c9708>"
      ]
     },
     "execution_count": 34,
     "metadata": {},
     "output_type": "execute_result"
    },
    {
     "data": {
      "image/png": "[encoded data removed]",
      "text/plain": [
       "<Figure size 432x288 with 1 Axes>"
      ]
     },
     "metadata": {
      "needs_background": "light"
     },
     "output_type": "display_data"
    }
   ],
   "source": [
    "x = np.linspace(0, 2, 100) # Generate 100 evenly spaced numbers from 0 to 2\n",
    "\n",
    "plt.plot(x, x, label='linear')  # Plot some data on the axes.\n",
    "plt.plot(x, x**2, label='quadratic')  # Plot more data on the axes...\n",
    "plt.plot(x, x**3, label='cubic')  # ... and some more.\n",
    "plt.xlabel('x label')  # Add an x-label to the axes.\n",
    "plt.ylabel('y label')  # Add a y-label to the axes.\n",
    "plt.title(\"Simple Plot\")  # Add a title to the axes.\n",
    "plt.legend()  # Add a legend."
   ]
  },
  {
   "cell_type": "markdown",
   "metadata": {},
   "source": [
    "# Pandapower"
   ]
  },
  {
   "cell_type": "markdown",
   "metadata": {},
   "source": [
    "https://pandapower.readthedocs.io/en/v2.4.0/index.html"
   ]
  },
  {
   "cell_type": "markdown",
   "metadata": {},
   "source": [
    "Create an empty grid: https://pandapower.readthedocs.io/en/v2.4.0/elements/empty_network.html"
   ]
  },
  {
   "cell_type": "code",
   "execution_count": 35,
   "metadata": {},
   "outputs": [],
   "source": [
    "net = pp.create_empty_network()"
   ]
  },
  {
   "cell_type": "markdown",
   "metadata": {},
   "source": [
    "Get pandapower standard library parameters"
   ]
  },
  {
   "cell_type": "code",
   "execution_count": 36,
   "metadata": {
    "scrolled": true
   },
   "outputs": [
    {
     "data": {
      "text/html": [
       "<div>\n",
       "<style scoped>\n",
       "    .dataframe tbody tr th:only-of-type {\n",
       "        vertical-align: middle;\n",
       "    }\n",
       "\n",
       "    .dataframe tbody tr th {\n",
       "        vertical-align: top;\n",
       "    }\n",
       "\n",
       "    .dataframe thead th {\n",
       "        text-align: right;\n",
       "    }\n",
       "</style>\n",
       "<table border=\"1\" class=\"dataframe\">\n",
       "  <thead>\n",
       "    <tr style=\"text-align: right;\">\n",
       "      <th></th>\n",
       "      <th>c_nf_per_km</th>\n",
       "      <th>r_ohm_per_km</th>\n",
       "      <th>x_ohm_per_km</th>\n",
       "      <th>max_i_ka</th>\n",
       "      <th>type</th>\n",
       "      <th>q_mm2</th>\n",
       "      <th>alpha</th>\n",
       "    </tr>\n",
       "  </thead>\n",
       "  <tbody>\n",
       "    <tr>\n",
       "      <th>NAYY 4x50 SE</th>\n",
       "      <td>210.00</td>\n",
       "      <td>0.6420</td>\n",
       "      <td>0.083</td>\n",
       "      <td>0.142</td>\n",
       "      <td>cs</td>\n",
       "      <td>50</td>\n",
       "      <td>0.00403</td>\n",
       "    </tr>\n",
       "    <tr>\n",
       "      <th>NAYY 4x120 SE</th>\n",
       "      <td>264.00</td>\n",
       "      <td>0.2250</td>\n",
       "      <td>0.080</td>\n",
       "      <td>0.242</td>\n",
       "      <td>cs</td>\n",
       "      <td>120</td>\n",
       "      <td>0.00403</td>\n",
       "    </tr>\n",
       "    <tr>\n",
       "      <th>NAYY 4x150 SE</th>\n",
       "      <td>261.00</td>\n",
       "      <td>0.2080</td>\n",
       "      <td>0.080</td>\n",
       "      <td>0.270</td>\n",
       "      <td>cs</td>\n",
       "      <td>150</td>\n",
       "      <td>0.00403</td>\n",
       "    </tr>\n",
       "    <tr>\n",
       "      <th>NA2XS2Y 1x95 RM/25 12/20 kV</th>\n",
       "      <td>216.00</td>\n",
       "      <td>0.3130</td>\n",
       "      <td>0.132</td>\n",
       "      <td>0.252</td>\n",
       "      <td>cs</td>\n",
       "      <td>95</td>\n",
       "      <td>0.00403</td>\n",
       "    </tr>\n",
       "    <tr>\n",
       "      <th>NA2XS2Y 1x185 RM/25 12/20 kV</th>\n",
       "      <td>273.00</td>\n",
       "      <td>0.1610</td>\n",
       "      <td>0.117</td>\n",
       "      <td>0.362</td>\n",
       "      <td>cs</td>\n",
       "      <td>185</td>\n",
       "      <td>0.00403</td>\n",
       "    </tr>\n",
       "    <tr>\n",
       "      <th>NA2XS2Y 1x240 RM/25 12/20 kV</th>\n",
       "      <td>304.00</td>\n",
       "      <td>0.1220</td>\n",
       "      <td>0.112</td>\n",
       "      <td>0.421</td>\n",
       "      <td>cs</td>\n",
       "      <td>240</td>\n",
       "      <td>0.00403</td>\n",
       "    </tr>\n",
       "    <tr>\n",
       "      <th>NA2XS2Y 1x95 RM/25 6/10 kV</th>\n",
       "      <td>315.00</td>\n",
       "      <td>0.3130</td>\n",
       "      <td>0.123</td>\n",
       "      <td>0.249</td>\n",
       "      <td>cs</td>\n",
       "      <td>95</td>\n",
       "      <td>0.00403</td>\n",
       "    </tr>\n",
       "    <tr>\n",
       "      <th>NA2XS2Y 1x185 RM/25 6/10 kV</th>\n",
       "      <td>406.00</td>\n",
       "      <td>0.1610</td>\n",
       "      <td>0.110</td>\n",
       "      <td>0.358</td>\n",
       "      <td>cs</td>\n",
       "      <td>185</td>\n",
       "      <td>0.00403</td>\n",
       "    </tr>\n",
       "    <tr>\n",
       "      <th>NA2XS2Y 1x240 RM/25 6/10 kV</th>\n",
       "      <td>456.00</td>\n",
       "      <td>0.1220</td>\n",
       "      <td>0.105</td>\n",
       "      <td>0.416</td>\n",
       "      <td>cs</td>\n",
       "      <td>240</td>\n",
       "      <td>0.00403</td>\n",
       "    </tr>\n",
       "    <tr>\n",
       "      <th>NA2XS2Y 1x150 RM/25 12/20 kV</th>\n",
       "      <td>250.00</td>\n",
       "      <td>0.2060</td>\n",
       "      <td>0.116</td>\n",
       "      <td>0.319</td>\n",
       "      <td>cs</td>\n",
       "      <td>150</td>\n",
       "      <td>0.00403</td>\n",
       "    </tr>\n",
       "    <tr>\n",
       "      <th>NA2XS2Y 1x120 RM/25 12/20 kV</th>\n",
       "      <td>230.00</td>\n",
       "      <td>0.2530</td>\n",
       "      <td>0.119</td>\n",
       "      <td>0.283</td>\n",
       "      <td>cs</td>\n",
       "      <td>120</td>\n",
       "      <td>0.00403</td>\n",
       "    </tr>\n",
       "    <tr>\n",
       "      <th>NA2XS2Y 1x70 RM/25 12/20 kV</th>\n",
       "      <td>190.00</td>\n",
       "      <td>0.4430</td>\n",
       "      <td>0.132</td>\n",
       "      <td>0.220</td>\n",
       "      <td>cs</td>\n",
       "      <td>70</td>\n",
       "      <td>0.00403</td>\n",
       "    </tr>\n",
       "    <tr>\n",
       "      <th>NA2XS2Y 1x150 RM/25 6/10 kV</th>\n",
       "      <td>360.00</td>\n",
       "      <td>0.2060</td>\n",
       "      <td>0.110</td>\n",
       "      <td>0.315</td>\n",
       "      <td>cs</td>\n",
       "      <td>150</td>\n",
       "      <td>0.00403</td>\n",
       "    </tr>\n",
       "    <tr>\n",
       "      <th>NA2XS2Y 1x120 RM/25 6/10 kV</th>\n",
       "      <td>340.00</td>\n",
       "      <td>0.2530</td>\n",
       "      <td>0.113</td>\n",
       "      <td>0.280</td>\n",
       "      <td>cs</td>\n",
       "      <td>120</td>\n",
       "      <td>0.00403</td>\n",
       "    </tr>\n",
       "    <tr>\n",
       "      <th>NA2XS2Y 1x70 RM/25 6/10 kV</th>\n",
       "      <td>280.00</td>\n",
       "      <td>0.4430</td>\n",
       "      <td>0.123</td>\n",
       "      <td>0.217</td>\n",
       "      <td>cs</td>\n",
       "      <td>70</td>\n",
       "      <td>0.00403</td>\n",
       "    </tr>\n",
       "    <tr>\n",
       "      <th>N2XS(FL)2Y 1x120 RM/35 64/110 kV</th>\n",
       "      <td>112.00</td>\n",
       "      <td>0.1530</td>\n",
       "      <td>0.166</td>\n",
       "      <td>0.366</td>\n",
       "      <td>cs</td>\n",
       "      <td>120</td>\n",
       "      <td>0.00393</td>\n",
       "    </tr>\n",
       "    <tr>\n",
       "      <th>N2XS(FL)2Y 1x185 RM/35 64/110 kV</th>\n",
       "      <td>125.00</td>\n",
       "      <td>0.0990</td>\n",
       "      <td>0.156</td>\n",
       "      <td>0.457</td>\n",
       "      <td>cs</td>\n",
       "      <td>185</td>\n",
       "      <td>0.00393</td>\n",
       "    </tr>\n",
       "    <tr>\n",
       "      <th>N2XS(FL)2Y 1x240 RM/35 64/110 kV</th>\n",
       "      <td>135.00</td>\n",
       "      <td>0.0750</td>\n",
       "      <td>0.149</td>\n",
       "      <td>0.526</td>\n",
       "      <td>cs</td>\n",
       "      <td>240</td>\n",
       "      <td>0.00393</td>\n",
       "    </tr>\n",
       "    <tr>\n",
       "      <th>N2XS(FL)2Y 1x300 RM/35 64/110 kV</th>\n",
       "      <td>144.00</td>\n",
       "      <td>0.0600</td>\n",
       "      <td>0.144</td>\n",
       "      <td>0.588</td>\n",
       "      <td>cs</td>\n",
       "      <td>300</td>\n",
       "      <td>0.00393</td>\n",
       "    </tr>\n",
       "    <tr>\n",
       "      <th>15-AL1/3-ST1A 0.4</th>\n",
       "      <td>11.00</td>\n",
       "      <td>1.8769</td>\n",
       "      <td>0.350</td>\n",
       "      <td>0.105</td>\n",
       "      <td>ol</td>\n",
       "      <td>16</td>\n",
       "      <td>0.00403</td>\n",
       "    </tr>\n",
       "    <tr>\n",
       "      <th>24-AL1/4-ST1A 0.4</th>\n",
       "      <td>11.25</td>\n",
       "      <td>1.2012</td>\n",
       "      <td>0.335</td>\n",
       "      <td>0.140</td>\n",
       "      <td>ol</td>\n",
       "      <td>24</td>\n",
       "      <td>0.00403</td>\n",
       "    </tr>\n",
       "    <tr>\n",
       "      <th>48-AL1/8-ST1A 0.4</th>\n",
       "      <td>12.20</td>\n",
       "      <td>0.5939</td>\n",
       "      <td>0.300</td>\n",
       "      <td>0.210</td>\n",
       "      <td>ol</td>\n",
       "      <td>48</td>\n",
       "      <td>0.00403</td>\n",
       "    </tr>\n",
       "    <tr>\n",
       "      <th>94-AL1/15-ST1A 0.4</th>\n",
       "      <td>13.20</td>\n",
       "      <td>0.3060</td>\n",
       "      <td>0.290</td>\n",
       "      <td>0.350</td>\n",
       "      <td>ol</td>\n",
       "      <td>94</td>\n",
       "      <td>0.00403</td>\n",
       "    </tr>\n",
       "    <tr>\n",
       "      <th>34-AL1/6-ST1A 10.0</th>\n",
       "      <td>9.70</td>\n",
       "      <td>0.8342</td>\n",
       "      <td>0.360</td>\n",
       "      <td>0.170</td>\n",
       "      <td>ol</td>\n",
       "      <td>34</td>\n",
       "      <td>0.00403</td>\n",
       "    </tr>\n",
       "    <tr>\n",
       "      <th>48-AL1/8-ST1A 10.0</th>\n",
       "      <td>10.10</td>\n",
       "      <td>0.5939</td>\n",
       "      <td>0.350</td>\n",
       "      <td>0.210</td>\n",
       "      <td>ol</td>\n",
       "      <td>48</td>\n",
       "      <td>0.00403</td>\n",
       "    </tr>\n",
       "    <tr>\n",
       "      <th>70-AL1/11-ST1A 10.0</th>\n",
       "      <td>10.40</td>\n",
       "      <td>0.4132</td>\n",
       "      <td>0.339</td>\n",
       "      <td>0.290</td>\n",
       "      <td>ol</td>\n",
       "      <td>70</td>\n",
       "      <td>0.00403</td>\n",
       "    </tr>\n",
       "    <tr>\n",
       "      <th>94-AL1/15-ST1A 10.0</th>\n",
       "      <td>10.75</td>\n",
       "      <td>0.3060</td>\n",
       "      <td>0.330</td>\n",
       "      <td>0.350</td>\n",
       "      <td>ol</td>\n",
       "      <td>94</td>\n",
       "      <td>0.00403</td>\n",
       "    </tr>\n",
       "    <tr>\n",
       "      <th>122-AL1/20-ST1A 10.0</th>\n",
       "      <td>11.10</td>\n",
       "      <td>0.2376</td>\n",
       "      <td>0.323</td>\n",
       "      <td>0.410</td>\n",
       "      <td>ol</td>\n",
       "      <td>122</td>\n",
       "      <td>0.00403</td>\n",
       "    </tr>\n",
       "    <tr>\n",
       "      <th>149-AL1/24-ST1A 10.0</th>\n",
       "      <td>11.25</td>\n",
       "      <td>0.1940</td>\n",
       "      <td>0.315</td>\n",
       "      <td>0.470</td>\n",
       "      <td>ol</td>\n",
       "      <td>149</td>\n",
       "      <td>0.00403</td>\n",
       "    </tr>\n",
       "    <tr>\n",
       "      <th>34-AL1/6-ST1A 20.0</th>\n",
       "      <td>9.15</td>\n",
       "      <td>0.8342</td>\n",
       "      <td>0.382</td>\n",
       "      <td>0.170</td>\n",
       "      <td>ol</td>\n",
       "      <td>34</td>\n",
       "      <td>0.00403</td>\n",
       "    </tr>\n",
       "    <tr>\n",
       "      <th>48-AL1/8-ST1A 20.0</th>\n",
       "      <td>9.50</td>\n",
       "      <td>0.5939</td>\n",
       "      <td>0.372</td>\n",
       "      <td>0.210</td>\n",
       "      <td>ol</td>\n",
       "      <td>48</td>\n",
       "      <td>0.00403</td>\n",
       "    </tr>\n",
       "    <tr>\n",
       "      <th>70-AL1/11-ST1A 20.0</th>\n",
       "      <td>9.70</td>\n",
       "      <td>0.4132</td>\n",
       "      <td>0.360</td>\n",
       "      <td>0.290</td>\n",
       "      <td>ol</td>\n",
       "      <td>70</td>\n",
       "      <td>0.00403</td>\n",
       "    </tr>\n",
       "    <tr>\n",
       "      <th>94-AL1/15-ST1A 20.0</th>\n",
       "      <td>10.00</td>\n",
       "      <td>0.3060</td>\n",
       "      <td>0.350</td>\n",
       "      <td>0.350</td>\n",
       "      <td>ol</td>\n",
       "      <td>94</td>\n",
       "      <td>0.00403</td>\n",
       "    </tr>\n",
       "    <tr>\n",
       "      <th>122-AL1/20-ST1A 20.0</th>\n",
       "      <td>10.30</td>\n",
       "      <td>0.2376</td>\n",
       "      <td>0.344</td>\n",
       "      <td>0.410</td>\n",
       "      <td>ol</td>\n",
       "      <td>122</td>\n",
       "      <td>0.00403</td>\n",
       "    </tr>\n",
       "    <tr>\n",
       "      <th>149-AL1/24-ST1A 20.0</th>\n",
       "      <td>10.50</td>\n",
       "      <td>0.1940</td>\n",
       "      <td>0.337</td>\n",
       "      <td>0.470</td>\n",
       "      <td>ol</td>\n",
       "      <td>149</td>\n",
       "      <td>0.00403</td>\n",
       "    </tr>\n",
       "    <tr>\n",
       "      <th>184-AL1/30-ST1A 20.0</th>\n",
       "      <td>10.75</td>\n",
       "      <td>0.1571</td>\n",
       "      <td>0.330</td>\n",
       "      <td>0.535</td>\n",
       "      <td>ol</td>\n",
       "      <td>184</td>\n",
       "      <td>0.00403</td>\n",
       "    </tr>\n",
       "    <tr>\n",
       "      <th>243-AL1/39-ST1A 20.0</th>\n",
       "      <td>11.00</td>\n",
       "      <td>0.1188</td>\n",
       "      <td>0.320</td>\n",
       "      <td>0.645</td>\n",
       "      <td>ol</td>\n",
       "      <td>243</td>\n",
       "      <td>0.00403</td>\n",
       "    </tr>\n",
       "    <tr>\n",
       "      <th>48-AL1/8-ST1A 110.0</th>\n",
       "      <td>8.00</td>\n",
       "      <td>0.5939</td>\n",
       "      <td>0.460</td>\n",
       "      <td>0.210</td>\n",
       "      <td>ol</td>\n",
       "      <td>48</td>\n",
       "      <td>0.00403</td>\n",
       "    </tr>\n",
       "    <tr>\n",
       "      <th>70-AL1/11-ST1A 110.0</th>\n",
       "      <td>8.40</td>\n",
       "      <td>0.4132</td>\n",
       "      <td>0.450</td>\n",
       "      <td>0.290</td>\n",
       "      <td>ol</td>\n",
       "      <td>70</td>\n",
       "      <td>0.00403</td>\n",
       "    </tr>\n",
       "    <tr>\n",
       "      <th>94-AL1/15-ST1A 110.0</th>\n",
       "      <td>8.65</td>\n",
       "      <td>0.3060</td>\n",
       "      <td>0.440</td>\n",
       "      <td>0.350</td>\n",
       "      <td>ol</td>\n",
       "      <td>94</td>\n",
       "      <td>0.00403</td>\n",
       "    </tr>\n",
       "    <tr>\n",
       "      <th>122-AL1/20-ST1A 110.0</th>\n",
       "      <td>8.50</td>\n",
       "      <td>0.2376</td>\n",
       "      <td>0.430</td>\n",
       "      <td>0.410</td>\n",
       "      <td>ol</td>\n",
       "      <td>122</td>\n",
       "      <td>0.00403</td>\n",
       "    </tr>\n",
       "    <tr>\n",
       "      <th>149-AL1/24-ST1A 110.0</th>\n",
       "      <td>8.75</td>\n",
       "      <td>0.1940</td>\n",
       "      <td>0.410</td>\n",
       "      <td>0.470</td>\n",
       "      <td>ol</td>\n",
       "      <td>149</td>\n",
       "      <td>0.00403</td>\n",
       "    </tr>\n",
       "    <tr>\n",
       "      <th>184-AL1/30-ST1A 110.0</th>\n",
       "      <td>8.80</td>\n",
       "      <td>0.1571</td>\n",
       "      <td>0.400</td>\n",
       "      <td>0.535</td>\n",
       "      <td>ol</td>\n",
       "      <td>184</td>\n",
       "      <td>0.00403</td>\n",
       "    </tr>\n",
       "    <tr>\n",
       "      <th>243-AL1/39-ST1A 110.0</th>\n",
       "      <td>9.00</td>\n",
       "      <td>0.1188</td>\n",
       "      <td>0.390</td>\n",
       "      <td>0.645</td>\n",
       "      <td>ol</td>\n",
       "      <td>243</td>\n",
       "      <td>0.00403</td>\n",
       "    </tr>\n",
       "    <tr>\n",
       "      <th>305-AL1/39-ST1A 110.0</th>\n",
       "      <td>9.20</td>\n",
       "      <td>0.0949</td>\n",
       "      <td>0.380</td>\n",
       "      <td>0.740</td>\n",
       "      <td>ol</td>\n",
       "      <td>305</td>\n",
       "      <td>0.00403</td>\n",
       "    </tr>\n",
       "    <tr>\n",
       "      <th>490-AL1/64-ST1A 110.0</th>\n",
       "      <td>9.75</td>\n",
       "      <td>0.0590</td>\n",
       "      <td>0.370</td>\n",
       "      <td>0.960</td>\n",
       "      <td>ol</td>\n",
       "      <td>490</td>\n",
       "      <td>0.00403</td>\n",
       "    </tr>\n",
       "    <tr>\n",
       "      <th>679-AL1/86-ST1A 110.0</th>\n",
       "      <td>9.95</td>\n",
       "      <td>0.0420</td>\n",
       "      <td>0.360</td>\n",
       "      <td>0.115</td>\n",
       "      <td>ol</td>\n",
       "      <td>679</td>\n",
       "      <td>0.00403</td>\n",
       "    </tr>\n",
       "    <tr>\n",
       "      <th>490-AL1/64-ST1A 220.0</th>\n",
       "      <td>10.00</td>\n",
       "      <td>0.0590</td>\n",
       "      <td>0.285</td>\n",
       "      <td>0.960</td>\n",
       "      <td>ol</td>\n",
       "      <td>490</td>\n",
       "      <td>0.00403</td>\n",
       "    </tr>\n",
       "    <tr>\n",
       "      <th>679-AL1/86-ST1A 220.0</th>\n",
       "      <td>11.70</td>\n",
       "      <td>0.0420</td>\n",
       "      <td>0.275</td>\n",
       "      <td>0.115</td>\n",
       "      <td>ol</td>\n",
       "      <td>679</td>\n",
       "      <td>0.00403</td>\n",
       "    </tr>\n",
       "    <tr>\n",
       "      <th>490-AL1/64-ST1A 380.0</th>\n",
       "      <td>11.00</td>\n",
       "      <td>0.0590</td>\n",
       "      <td>0.253</td>\n",
       "      <td>0.960</td>\n",
       "      <td>ol</td>\n",
       "      <td>490</td>\n",
       "      <td>0.00403</td>\n",
       "    </tr>\n",
       "    <tr>\n",
       "      <th>679-AL1/86-ST1A 380.0</th>\n",
       "      <td>14.60</td>\n",
       "      <td>0.0420</td>\n",
       "      <td>0.250</td>\n",
       "      <td>0.115</td>\n",
       "      <td>ol</td>\n",
       "      <td>679</td>\n",
       "      <td>0.00403</td>\n",
       "    </tr>\n",
       "  </tbody>\n",
       "</table>\n",
       "</div>"
      ],
      "text/plain": [
       "                                  c_nf_per_km  r_ohm_per_km  x_ohm_per_km  \\\n",
       "NAYY 4x50 SE                           210.00        0.6420         0.083   \n",
       "NAYY 4x120 SE                          264.00        0.2250         0.080   \n",
       "NAYY 4x150 SE                          261.00        0.2080         0.080   \n",
       "NA2XS2Y 1x95 RM/25 12/20 kV            216.00        0.3130         0.132   \n",
       "NA2XS2Y 1x185 RM/25 12/20 kV           273.00        0.1610         0.117   \n",
       "NA2XS2Y 1x240 RM/25 12/20 kV           304.00        0.1220         0.112   \n",
       "NA2XS2Y 1x95 RM/25 6/10 kV             315.00        0.3130         0.123   \n",
       "NA2XS2Y 1x185 RM/25 6/10 kV            406.00        0.1610         0.110   \n",
       "NA2XS2Y 1x240 RM/25 6/10 kV            456.00        0.1220         0.105   \n",
       "NA2XS2Y 1x150 RM/25 12/20 kV           250.00        0.2060         0.116   \n",
       "NA2XS2Y 1x120 RM/25 12/20 kV           230.00        0.2530         0.119   \n",
       "NA2XS2Y 1x70 RM/25 12/20 kV            190.00        0.4430         0.132   \n",
       "NA2XS2Y 1x150 RM/25 6/10 kV            360.00        0.2060         0.110   \n",
       "NA2XS2Y 1x120 RM/25 6/10 kV            340.00        0.2530         0.113   \n",
       "NA2XS2Y 1x70 RM/25 6/10 kV             280.00        0.4430         0.123   \n",
       "N2XS(FL)2Y 1x120 RM/35 64/110 kV       112.00        0.1530         0.166   \n",
       "N2XS(FL)2Y 1x185 RM/35 64/110 kV       125.00        0.0990         0.156   \n",
       "N2XS(FL)2Y 1x240 RM/35 64/110 kV       135.00        0.0750         0.149   \n",
       "N2XS(FL)2Y 1x300 RM/35 64/110 kV       144.00        0.0600         0.144   \n",
       "15-AL1/3-ST1A 0.4                       11.00        1.8769         0.350   \n",
       "24-AL1/4-ST1A 0.4                       11.25        1.2012         0.335   \n",
       "48-AL1/8-ST1A 0.4                       12.20        0.5939         0.300   \n",
       "94-AL1/15-ST1A 0.4                      13.20        0.3060         0.290   \n",
       "34-AL1/6-ST1A 10.0                       9.70        0.8342         0.360   \n",
       "48-AL1/8-ST1A 10.0                      10.10        0.5939         0.350   \n",
       "70-AL1/11-ST1A 10.0                     10.40        0.4132         0.339   \n",
       "94-AL1/15-ST1A 10.0                     10.75        0.3060         0.330   \n",
       "122-AL1/20-ST1A 10.0                    11.10        0.2376         0.323   \n",
       "149-AL1/24-ST1A 10.0                    11.25        0.1940         0.315   \n",
       "34-AL1/6-ST1A 20.0                       9.15        0.8342         0.382   \n",
       "48-AL1/8-ST1A 20.0                       9.50        0.5939         0.372   \n",
       "70-AL1/11-ST1A 20.0                      9.70        0.4132         0.360   \n",
       "94-AL1/15-ST1A 20.0                     10.00        0.3060         0.350   \n",
       "122-AL1/20-ST1A 20.0                    10.30        0.2376         0.344   \n",
       "149-AL1/24-ST1A 20.0                    10.50        0.1940         0.337   \n",
       "184-AL1/30-ST1A 20.0                    10.75        0.1571         0.330   \n",
       "243-AL1/39-ST1A 20.0                    11.00        0.1188         0.320   \n",
       "48-AL1/8-ST1A 110.0                      8.00        0.5939         0.460   \n",
       "70-AL1/11-ST1A 110.0                     8.40        0.4132         0.450   \n",
       "94-AL1/15-ST1A 110.0                     8.65        0.3060         0.440   \n",
       "122-AL1/20-ST1A 110.0                    8.50        0.2376         0.430   \n",
       "149-AL1/24-ST1A 110.0                    8.75        0.1940         0.410   \n",
       "184-AL1/30-ST1A 110.0                    8.80        0.1571         0.400   \n",
       "243-AL1/39-ST1A 110.0                    9.00        0.1188         0.390   \n",
       "305-AL1/39-ST1A 110.0                    9.20        0.0949         0.380   \n",
       "490-AL1/64-ST1A 110.0                    9.75        0.0590         0.370   \n",
       "679-AL1/86-ST1A 110.0                    9.95        0.0420         0.360   \n",
       "490-AL1/64-ST1A 220.0                   10.00        0.0590         0.285   \n",
       "679-AL1/86-ST1A 220.0                   11.70        0.0420         0.275   \n",
       "490-AL1/64-ST1A 380.0                   11.00        0.0590         0.253   \n",
       "679-AL1/86-ST1A 380.0                   14.60        0.0420         0.250   \n",
       "\n",
       "                                  max_i_ka type  q_mm2    alpha  \n",
       "NAYY 4x50 SE                         0.142   cs     50  0.00403  \n",
       "NAYY 4x120 SE                        0.242   cs    120  0.00403  \n",
       "NAYY 4x150 SE                        0.270   cs    150  0.00403  \n",
       "NA2XS2Y 1x95 RM/25 12/20 kV          0.252   cs     95  0.00403  \n",
       "NA2XS2Y 1x185 RM/25 12/20 kV         0.362   cs    185  0.00403  \n",
       "NA2XS2Y 1x240 RM/25 12/20 kV         0.421   cs    240  0.00403  \n",
       "NA2XS2Y 1x95 RM/25 6/10 kV           0.249   cs     95  0.00403  \n",
       "NA2XS2Y 1x185 RM/25 6/10 kV          0.358   cs    185  0.00403  \n",
       "NA2XS2Y 1x240 RM/25 6/10 kV          0.416   cs    240  0.00403  \n",
       "NA2XS2Y 1x150 RM/25 12/20 kV         0.319   cs    150  0.00403  \n",
       "NA2XS2Y 1x120 RM/25 12/20 kV         0.283   cs    120  0.00403  \n",
       "NA2XS2Y 1x70 RM/25 12/20 kV          0.220   cs     70  0.00403  \n",
       "NA2XS2Y 1x150 RM/25 6/10 kV          0.315   cs    150  0.00403  \n",
       "NA2XS2Y 1x120 RM/25 6/10 kV          0.280   cs    120  0.00403  \n",
       "NA2XS2Y 1x70 RM/25 6/10 kV           0.217   cs     70  0.00403  \n",
       "N2XS(FL)2Y 1x120 RM/35 64/110 kV     0.366   cs    120  0.00393  \n",
       "N2XS(FL)2Y 1x185 RM/35 64/110 kV     0.457   cs    185  0.00393  \n",
       "N2XS(FL)2Y 1x240 RM/35 64/110 kV     0.526   cs    240  0.00393  \n",
       "N2XS(FL)2Y 1x300 RM/35 64/110 kV     0.588   cs    300  0.00393  \n",
       "15-AL1/3-ST1A 0.4                    0.105   ol     16  0.00403  \n",
       "24-AL1/4-ST1A 0.4                    0.140   ol     24  0.00403  \n",
       "48-AL1/8-ST1A 0.4                    0.210   ol     48  0.00403  \n",
       "94-AL1/15-ST1A 0.4                   0.350   ol     94  0.00403  \n",
       "34-AL1/6-ST1A 10.0                   0.170   ol     34  0.00403  \n",
       "48-AL1/8-ST1A 10.0                   0.210   ol     48  0.00403  \n",
       "70-AL1/11-ST1A 10.0                  0.290   ol     70  0.00403  \n",
       "94-AL1/15-ST1A 10.0                  0.350   ol     94  0.00403  \n",
       "122-AL1/20-ST1A 10.0                 0.410   ol    122  0.00403  \n",
       "149-AL1/24-ST1A 10.0                 0.470   ol    149  0.00403  \n",
       "34-AL1/6-ST1A 20.0                   0.170   ol     34  0.00403  \n",
       "48-AL1/8-ST1A 20.0                   0.210   ol     48  0.00403  \n",
       "70-AL1/11-ST1A 20.0                  0.290   ol     70  0.00403  \n",
       "94-AL1/15-ST1A 20.0                  0.350   ol     94  0.00403  \n",
       "122-AL1/20-ST1A 20.0                 0.410   ol    122  0.00403  \n",
       "149-AL1/24-ST1A 20.0                 0.470   ol    149  0.00403  \n",
       "184-AL1/30-ST1A 20.0                 0.535   ol    184  0.00403  \n",
       "243-AL1/39-ST1A 20.0                 0.645   ol    243  0.00403  \n",
       "48-AL1/8-ST1A 110.0                  0.210   ol     48  0.00403  \n",
       "70-AL1/11-ST1A 110.0                 0.290   ol     70  0.00403  \n",
       "94-AL1/15-ST1A 110.0                 0.350   ol     94  0.00403  \n",
       "122-AL1/20-ST1A 110.0                0.410   ol    122  0.00403  \n",
       "149-AL1/24-ST1A 110.0                0.470   ol    149  0.00403  \n",
       "184-AL1/30-ST1A 110.0                0.535   ol    184  0.00403  \n",
       "243-AL1/39-ST1A 110.0                0.645   ol    243  0.00403  \n",
       "305-AL1/39-ST1A 110.0                0.740   ol    305  0.00403  \n",
       "490-AL1/64-ST1A 110.0                0.960   ol    490  0.00403  \n",
       "679-AL1/86-ST1A 110.0                0.115   ol    679  0.00403  \n",
       "490-AL1/64-ST1A 220.0                0.960   ol    490  0.00403  \n",
       "679-AL1/86-ST1A 220.0                0.115   ol    679  0.00403  \n",
       "490-AL1/64-ST1A 380.0                0.960   ol    490  0.00403  \n",
       "679-AL1/86-ST1A 380.0                0.115   ol    679  0.00403  "
      ]
     },
     "execution_count": 36,
     "metadata": {},
     "output_type": "execute_result"
    }
   ],
   "source": [
    "#pp.available_std_types(net, element=\"trafo\")\n",
    "pp.available_std_types(net, element=\"line\")"
   ]
  },
  {
   "attachments": {
    "Ex1.png": {
     "image/png": "[encoded data removed]"
    }
   },
   "cell_type": "markdown",
   "metadata": {},
   "source": [
    "![Ex1.png](attachment:Ex1.png)"
   ]
  },
  {
   "cell_type": "markdown",
   "metadata": {},
   "source": [
    "# Buses"
   ]
  },
  {
   "cell_type": "code",
   "execution_count": 37,
   "metadata": {},
   "outputs": [],
   "source": [
    "PF = 0.85 #Power Factor"
   ]
  },
  {
   "cell_type": "code",
   "execution_count": 38,
   "metadata": {},
   "outputs": [],
   "source": [
    "bus1 = pp.create_bus(net, name=\"Bus 1\", vn_kv=230)\n",
    "bus2 = pp.create_bus(net, name=\"Bus 2\", vn_kv=230)\n",
    "bus3 = pp.create_bus(net, name=\"Bus 3\", vn_kv=230)\n",
    "bus4 = pp.create_bus(net, name=\"Bus 4\", vn_kv=230)"
   ]
  },
  {
   "cell_type": "code",
   "execution_count": 39,
   "metadata": {},
   "outputs": [
    {
     "data": {
      "text/html": [
       "<div>\n",
       "<style scoped>\n",
       "    .dataframe tbody tr th:only-of-type {\n",
       "        vertical-align: middle;\n",
       "    }\n",
       "\n",
       "    .dataframe tbody tr th {\n",
       "        vertical-align: top;\n",
       "    }\n",
       "\n",
       "    .dataframe thead th {\n",
       "        text-align: right;\n",
       "    }\n",
       "</style>\n",
       "<table border=\"1\" class=\"dataframe\">\n",
       "  <thead>\n",
       "    <tr style=\"text-align: right;\">\n",
       "      <th></th>\n",
       "      <th>name</th>\n",
       "      <th>vn_kv</th>\n",
       "      <th>type</th>\n",
       "      <th>zone</th>\n",
       "      <th>in_service</th>\n",
       "    </tr>\n",
       "  </thead>\n",
       "  <tbody>\n",
       "    <tr>\n",
       "      <th>0</th>\n",
       "      <td>Bus 1</td>\n",
       "      <td>230.0</td>\n",
       "      <td>b</td>\n",
       "      <td>None</td>\n",
       "      <td>True</td>\n",
       "    </tr>\n",
       "    <tr>\n",
       "      <th>1</th>\n",
       "      <td>Bus 2</td>\n",
       "      <td>230.0</td>\n",
       "      <td>b</td>\n",
       "      <td>None</td>\n",
       "      <td>True</td>\n",
       "    </tr>\n",
       "    <tr>\n",
       "      <th>2</th>\n",
       "      <td>Bus 3</td>\n",
       "      <td>230.0</td>\n",
       "      <td>b</td>\n",
       "      <td>None</td>\n",
       "      <td>True</td>\n",
       "    </tr>\n",
       "    <tr>\n",
       "      <th>3</th>\n",
       "      <td>Bus 4</td>\n",
       "      <td>230.0</td>\n",
       "      <td>b</td>\n",
       "      <td>None</td>\n",
       "      <td>True</td>\n",
       "    </tr>\n",
       "  </tbody>\n",
       "</table>\n",
       "</div>"
      ],
      "text/plain": [
       "    name  vn_kv type  zone  in_service\n",
       "0  Bus 1  230.0    b  None        True\n",
       "1  Bus 2  230.0    b  None        True\n",
       "2  Bus 3  230.0    b  None        True\n",
       "3  Bus 4  230.0    b  None        True"
      ]
     },
     "execution_count": 39,
     "metadata": {},
     "output_type": "execute_result"
    }
   ],
   "source": [
    "net.bus"
   ]
  },
  {
   "cell_type": "code",
   "execution_count": 40,
   "metadata": {},
   "outputs": [
    {
     "data": {
      "text/plain": [
       "0"
      ]
     },
     "execution_count": 40,
     "metadata": {},
     "output_type": "execute_result"
    }
   ],
   "source": [
    "# Bus 1 Slack\n",
    "pp.create_ext_grid(net, bus1)\n",
    "# Functions return the unique ID of the created element"
   ]
  },
  {
   "attachments": {},
   "cell_type": "markdown",
   "metadata": {},
   "source": [
    "<img style=\"float: center;\" src=\"bus.png\" width=\"90%\">"
   ]
  },
  {
   "cell_type": "code",
   "execution_count": 41,
   "metadata": {},
   "outputs": [
    {
     "data": {
      "text/plain": [
       "3"
      ]
     },
     "execution_count": 41,
     "metadata": {},
     "output_type": "execute_result"
    }
   ],
   "source": [
    "# Bus 1 Load\n",
    "p_mw = 50\n",
    "q_mvar=get_reactive(p_mw,PF)\n",
    "pp.create_load(net, bus1, p_mw, q_mvar)\n",
    "\n",
    "# Bus 2 Load\n",
    "p_mw = 170\n",
    "q_mvar=get_reactive(p_mw,PF)\n",
    "pp.create_load(net, bus2, p_mw, q_mvar)\n",
    "\n",
    "# Bus 3 Load\n",
    "p_mw = 200\n",
    "q_mvar=get_reactive(p_mw,PF)\n",
    "pp.create_load(net, bus3, p_mw, q_mvar)\n",
    "\n",
    "# Bus 4 Load\n",
    "p_mw = 80\n",
    "q_mvar=get_reactive(p_mw,PF)\n",
    "pp.create_load(net, bus4, p_mw, q_mvar)"
   ]
  },
  {
   "attachments": {},
   "cell_type": "markdown",
   "metadata": {},
   "source": [
    "<img style=\"float: center;\" src=\"generator.png\" width=\"90%\">"
   ]
  },
  {
   "cell_type": "code",
   "execution_count": 42,
   "metadata": {},
   "outputs": [
    {
     "data": {
      "text/plain": [
       "0"
      ]
     },
     "execution_count": 42,
     "metadata": {},
     "output_type": "execute_result"
    }
   ],
   "source": [
    "# Bus 4 Generator\n",
    "p_mw = 318\n",
    "PF = 1\n",
    "q_mvar = get_reactive(p_mw,PF)\n",
    "pp.create_sgen(net, bus4, p_mw, q_mvar)"
   ]
  },
  {
   "cell_type": "markdown",
   "metadata": {},
   "source": [
    "# Lines"
   ]
  },
  {
   "cell_type": "markdown",
   "metadata": {},
   "source": [
    "In this example lines are characterized in p.u."
   ]
  },
  {
   "attachments": {},
   "cell_type": "markdown",
   "metadata": {},
   "source": [
    "<img style=\"float: center;\" src=\"line.png\" width=\"90%\">"
   ]
  },
  {
   "cell_type": "markdown",
   "metadata": {},
   "source": [
    "Pandapower needs lines parameters in physical units per km and the lenght of the lines. "
   ]
  },
  {
   "cell_type": "markdown",
   "metadata": {},
   "source": [
    "And do not need Susceptance B!"
   ]
  },
  {
   "cell_type": "code",
   "execution_count": 43,
   "metadata": {},
   "outputs": [],
   "source": [
    "r1_2 = 0.01008\n",
    "r1_3 = 0.00744\n",
    "r2_4 = 0.00744\n",
    "r3_4 = 0.01272\n",
    "\n",
    "x1_2 = 0.05040\n",
    "x1_3 = 0.03720\n",
    "x2_4 = 0.03720\n",
    "x3_4 = 0.06360"
   ]
  },
  {
   "cell_type": "markdown",
   "metadata": {},
   "source": [
    "create_line_from_parameters : https://pandapower.readthedocs.io/en/v2.4.0/elements/line.html"
   ]
  },
  {
   "cell_type": "markdown",
   "metadata": {},
   "source": [
    "<img style=\"float: center;\" src=\"lines_input.png\" width=\"60%\">"
   ]
  },
  {
   "cell_type": "markdown",
   "metadata": {},
   "source": [
    "Since data are in p.u. we have to translate the information into pandapower accepted format."
   ]
  },
  {
   "cell_type": "markdown",
   "metadata": {},
   "source": [
    "<img style=\"float: center;\" src=\"Base_values.png\" width=\"50%\">"
   ]
  },
  {
   "cell_type": "markdown",
   "metadata": {},
   "source": [
    "<img style=\"float: center;\" src=\"Base_impedance.png\" width=\"20%\"> "
   ]
  },
  {
   "cell_type": "code",
   "execution_count": 44,
   "metadata": {},
   "outputs": [
    {
     "data": {
      "text/plain": [
       "529.0"
      ]
     },
     "execution_count": 44,
     "metadata": {},
     "output_type": "execute_result"
    }
   ],
   "source": [
    "Z_b = 230**2/100\n",
    "Z_b"
   ]
  },
  {
   "cell_type": "code",
   "execution_count": 5,
   "metadata": {},
   "outputs": [],
   "source": [
    "def get_per_km_value(a_pu,L,Z_b):\n",
    "    \"\"\"\" Calculate physical quantity in per km given the p.u. value \"\"\"\n",
    "    return a_pu*Z_b/L"
   ]
  },
  {
   "cell_type": "markdown",
   "metadata": {},
   "source": [
    "If we suppose a medium lenght line L = 100km we cannot neglect capacitance C [nF], which becomes more and more importante the more the line is long. "
   ]
  },
  {
   "cell_type": "markdown",
   "metadata": {},
   "source": [
    "Let's suppose a typical capacitance of C = 18,2 nF/km for all lines"
   ]
  },
  {
   "cell_type": "code",
   "execution_count": 45,
   "metadata": {},
   "outputs": [],
   "source": [
    "L = 100\n",
    "c_nf_km = 18.2"
   ]
  },
  {
   "cell_type": "markdown",
   "metadata": {},
   "source": [
    "Let's suppose also the maximum thermal current to be 0.960 kA. "
   ]
  },
  {
   "cell_type": "code",
   "execution_count": 46,
   "metadata": {},
   "outputs": [],
   "source": [
    "max_i_ka = 0.960"
   ]
  },
  {
   "cell_type": "code",
   "execution_count": 47,
   "metadata": {},
   "outputs": [],
   "source": [
    "r1_2_km = get_per_km_value(r1_2,L,Z_b)\n",
    "r1_3_km = get_per_km_value(r1_3,L,Z_b)\n",
    "r2_4_km = get_per_km_value(r2_4,L,Z_b)\n",
    "r3_4_km = get_per_km_value(r3_4,L,Z_b)\n",
    "\n",
    "x1_2_km = get_per_km_value(x1_2,L,Z_b)\n",
    "x1_3_km = get_per_km_value(x1_3,L,Z_b)\n",
    "x2_4_km = get_per_km_value(x2_4,L,Z_b)\n",
    "x3_4_km = get_per_km_value(x3_4,L,Z_b)"
   ]
  },
  {
   "cell_type": "code",
   "execution_count": 48,
   "metadata": {},
   "outputs": [
    {
     "data": {
      "text/plain": [
       "3"
      ]
     },
     "execution_count": 48,
     "metadata": {},
     "output_type": "execute_result"
    }
   ],
   "source": [
    "pp.create_line_from_parameters(net, from_bus = bus1, to_bus = bus2, length_km = L, r_ohm_per_km = r1_2_km, x_ohm_per_km = x1_2_km, c_nf_per_km = c_nf_km , max_i_ka = max_i_ka, name=12)\n",
    "pp.create_line_from_parameters(net, from_bus = bus1, to_bus = bus3, length_km = L, r_ohm_per_km = r1_3_km, x_ohm_per_km = x1_3_km, c_nf_per_km = c_nf_km , max_i_ka = max_i_ka, name=13)\n",
    "pp.create_line_from_parameters(net, from_bus = bus2, to_bus = bus4, length_km = L, r_ohm_per_km = r2_4_km, x_ohm_per_km = x2_4_km, c_nf_per_km = c_nf_km , max_i_ka = max_i_ka, name=24)\n",
    "pp.create_line_from_parameters(net, from_bus = bus3, to_bus = bus4, length_km = L, r_ohm_per_km = r3_4_km, x_ohm_per_km = x3_4_km, c_nf_per_km = c_nf_km , max_i_ka = max_i_ka, name=34)"
   ]
  },
  {
   "cell_type": "code",
   "execution_count": 49,
   "metadata": {},
   "outputs": [
    {
     "data": {
      "text/plain": [
       "This pandapower network includes the following parameter tables:\n",
       "   - bus (4 elements)\n",
       "   - load (4 elements)\n",
       "   - sgen (1 element)\n",
       "   - ext_grid (1 element)\n",
       "   - line (4 elements)"
      ]
     },
     "execution_count": 49,
     "metadata": {},
     "output_type": "execute_result"
    }
   ],
   "source": [
    "net"
   ]
  },
  {
   "cell_type": "code",
   "execution_count": 50,
   "metadata": {},
   "outputs": [
    {
     "data": {
      "text/html": [
       "<div>\n",
       "<style scoped>\n",
       "    .dataframe tbody tr th:only-of-type {\n",
       "        vertical-align: middle;\n",
       "    }\n",
       "\n",
       "    .dataframe tbody tr th {\n",
       "        vertical-align: top;\n",
       "    }\n",
       "\n",
       "    .dataframe thead th {\n",
       "        text-align: right;\n",
       "    }\n",
       "</style>\n",
       "<table border=\"1\" class=\"dataframe\">\n",
       "  <thead>\n",
       "    <tr style=\"text-align: right;\">\n",
       "      <th></th>\n",
       "      <th>name</th>\n",
       "      <th>bus</th>\n",
       "      <th>p_mw</th>\n",
       "      <th>q_mvar</th>\n",
       "      <th>const_z_percent</th>\n",
       "      <th>const_i_percent</th>\n",
       "      <th>sn_mva</th>\n",
       "      <th>scaling</th>\n",
       "      <th>in_service</th>\n",
       "      <th>type</th>\n",
       "    </tr>\n",
       "  </thead>\n",
       "  <tbody>\n",
       "    <tr>\n",
       "      <th>0</th>\n",
       "      <td>None</td>\n",
       "      <td>0</td>\n",
       "      <td>50.0</td>\n",
       "      <td>30.987217</td>\n",
       "      <td>0.0</td>\n",
       "      <td>0.0</td>\n",
       "      <td>NaN</td>\n",
       "      <td>1.0</td>\n",
       "      <td>True</td>\n",
       "      <td>None</td>\n",
       "    </tr>\n",
       "    <tr>\n",
       "      <th>1</th>\n",
       "      <td>None</td>\n",
       "      <td>1</td>\n",
       "      <td>170.0</td>\n",
       "      <td>105.356538</td>\n",
       "      <td>0.0</td>\n",
       "      <td>0.0</td>\n",
       "      <td>NaN</td>\n",
       "      <td>1.0</td>\n",
       "      <td>True</td>\n",
       "      <td>None</td>\n",
       "    </tr>\n",
       "    <tr>\n",
       "      <th>2</th>\n",
       "      <td>None</td>\n",
       "      <td>2</td>\n",
       "      <td>200.0</td>\n",
       "      <td>123.948868</td>\n",
       "      <td>0.0</td>\n",
       "      <td>0.0</td>\n",
       "      <td>NaN</td>\n",
       "      <td>1.0</td>\n",
       "      <td>True</td>\n",
       "      <td>None</td>\n",
       "    </tr>\n",
       "    <tr>\n",
       "      <th>3</th>\n",
       "      <td>None</td>\n",
       "      <td>3</td>\n",
       "      <td>80.0</td>\n",
       "      <td>49.579547</td>\n",
       "      <td>0.0</td>\n",
       "      <td>0.0</td>\n",
       "      <td>NaN</td>\n",
       "      <td>1.0</td>\n",
       "      <td>True</td>\n",
       "      <td>None</td>\n",
       "    </tr>\n",
       "  </tbody>\n",
       "</table>\n",
       "</div>"
      ],
      "text/plain": [
       "   name  bus   p_mw      q_mvar  const_z_percent  const_i_percent  sn_mva  \\\n",
       "0  None    0   50.0   30.987217              0.0              0.0     NaN   \n",
       "1  None    1  170.0  105.356538              0.0              0.0     NaN   \n",
       "2  None    2  200.0  123.948868              0.0              0.0     NaN   \n",
       "3  None    3   80.0   49.579547              0.0              0.0     NaN   \n",
       "\n",
       "   scaling  in_service  type  \n",
       "0      1.0        True  None  \n",
       "1      1.0        True  None  \n",
       "2      1.0        True  None  \n",
       "3      1.0        True  None  "
      ]
     },
     "execution_count": 50,
     "metadata": {},
     "output_type": "execute_result"
    }
   ],
   "source": [
    "net.load"
   ]
  },
  {
   "cell_type": "code",
   "execution_count": 51,
   "metadata": {},
   "outputs": [
    {
     "data": {
      "text/html": [
       "<div>\n",
       "<style scoped>\n",
       "    .dataframe tbody tr th:only-of-type {\n",
       "        vertical-align: middle;\n",
       "    }\n",
       "\n",
       "    .dataframe tbody tr th {\n",
       "        vertical-align: top;\n",
       "    }\n",
       "\n",
       "    .dataframe thead th {\n",
       "        text-align: right;\n",
       "    }\n",
       "</style>\n",
       "<table border=\"1\" class=\"dataframe\">\n",
       "  <thead>\n",
       "    <tr style=\"text-align: right;\">\n",
       "      <th></th>\n",
       "      <th>name</th>\n",
       "      <th>bus</th>\n",
       "      <th>p_mw</th>\n",
       "      <th>q_mvar</th>\n",
       "      <th>sn_mva</th>\n",
       "      <th>scaling</th>\n",
       "      <th>in_service</th>\n",
       "      <th>type</th>\n",
       "      <th>current_source</th>\n",
       "    </tr>\n",
       "  </thead>\n",
       "  <tbody>\n",
       "    <tr>\n",
       "      <th>0</th>\n",
       "      <td>None</td>\n",
       "      <td>3</td>\n",
       "      <td>318.0</td>\n",
       "      <td>0.0</td>\n",
       "      <td>NaN</td>\n",
       "      <td>1.0</td>\n",
       "      <td>True</td>\n",
       "      <td>None</td>\n",
       "      <td>True</td>\n",
       "    </tr>\n",
       "  </tbody>\n",
       "</table>\n",
       "</div>"
      ],
      "text/plain": [
       "   name  bus   p_mw  q_mvar  sn_mva  scaling  in_service  type  current_source\n",
       "0  None    3  318.0     0.0     NaN      1.0        True  None            True"
      ]
     },
     "execution_count": 51,
     "metadata": {},
     "output_type": "execute_result"
    }
   ],
   "source": [
    "net.sgen"
   ]
  },
  {
   "cell_type": "code",
   "execution_count": 52,
   "metadata": {},
   "outputs": [
    {
     "data": {
      "text/html": [
       "<div>\n",
       "<style scoped>\n",
       "    .dataframe tbody tr th:only-of-type {\n",
       "        vertical-align: middle;\n",
       "    }\n",
       "\n",
       "    .dataframe tbody tr th {\n",
       "        vertical-align: top;\n",
       "    }\n",
       "\n",
       "    .dataframe thead th {\n",
       "        text-align: right;\n",
       "    }\n",
       "</style>\n",
       "<table border=\"1\" class=\"dataframe\">\n",
       "  <thead>\n",
       "    <tr style=\"text-align: right;\">\n",
       "      <th></th>\n",
       "      <th>name</th>\n",
       "      <th>std_type</th>\n",
       "      <th>from_bus</th>\n",
       "      <th>to_bus</th>\n",
       "      <th>length_km</th>\n",
       "      <th>r_ohm_per_km</th>\n",
       "      <th>x_ohm_per_km</th>\n",
       "      <th>c_nf_per_km</th>\n",
       "      <th>g_us_per_km</th>\n",
       "      <th>max_i_ka</th>\n",
       "      <th>df</th>\n",
       "      <th>parallel</th>\n",
       "      <th>type</th>\n",
       "      <th>in_service</th>\n",
       "    </tr>\n",
       "  </thead>\n",
       "  <tbody>\n",
       "    <tr>\n",
       "      <th>0</th>\n",
       "      <td>12</td>\n",
       "      <td>None</td>\n",
       "      <td>0</td>\n",
       "      <td>1</td>\n",
       "      <td>100.0</td>\n",
       "      <td>0.053323</td>\n",
       "      <td>0.266616</td>\n",
       "      <td>18.2</td>\n",
       "      <td>0.0</td>\n",
       "      <td>0.96</td>\n",
       "      <td>1.0</td>\n",
       "      <td>1</td>\n",
       "      <td>None</td>\n",
       "      <td>True</td>\n",
       "    </tr>\n",
       "    <tr>\n",
       "      <th>1</th>\n",
       "      <td>13</td>\n",
       "      <td>None</td>\n",
       "      <td>0</td>\n",
       "      <td>2</td>\n",
       "      <td>100.0</td>\n",
       "      <td>0.039358</td>\n",
       "      <td>0.196788</td>\n",
       "      <td>18.2</td>\n",
       "      <td>0.0</td>\n",
       "      <td>0.96</td>\n",
       "      <td>1.0</td>\n",
       "      <td>1</td>\n",
       "      <td>None</td>\n",
       "      <td>True</td>\n",
       "    </tr>\n",
       "    <tr>\n",
       "      <th>2</th>\n",
       "      <td>24</td>\n",
       "      <td>None</td>\n",
       "      <td>1</td>\n",
       "      <td>3</td>\n",
       "      <td>100.0</td>\n",
       "      <td>0.039358</td>\n",
       "      <td>0.196788</td>\n",
       "      <td>18.2</td>\n",
       "      <td>0.0</td>\n",
       "      <td>0.96</td>\n",
       "      <td>1.0</td>\n",
       "      <td>1</td>\n",
       "      <td>None</td>\n",
       "      <td>True</td>\n",
       "    </tr>\n",
       "    <tr>\n",
       "      <th>3</th>\n",
       "      <td>34</td>\n",
       "      <td>None</td>\n",
       "      <td>2</td>\n",
       "      <td>3</td>\n",
       "      <td>100.0</td>\n",
       "      <td>0.067289</td>\n",
       "      <td>0.336444</td>\n",
       "      <td>18.2</td>\n",
       "      <td>0.0</td>\n",
       "      <td>0.96</td>\n",
       "      <td>1.0</td>\n",
       "      <td>1</td>\n",
       "      <td>None</td>\n",
       "      <td>True</td>\n",
       "    </tr>\n",
       "  </tbody>\n",
       "</table>\n",
       "</div>"
      ],
      "text/plain": [
       "  name std_type  from_bus  to_bus  length_km  r_ohm_per_km  x_ohm_per_km  \\\n",
       "0   12     None         0       1      100.0      0.053323      0.266616   \n",
       "1   13     None         0       2      100.0      0.039358      0.196788   \n",
       "2   24     None         1       3      100.0      0.039358      0.196788   \n",
       "3   34     None         2       3      100.0      0.067289      0.336444   \n",
       "\n",
       "   c_nf_per_km  g_us_per_km  max_i_ka   df  parallel  type  in_service  \n",
       "0         18.2          0.0      0.96  1.0         1  None        True  \n",
       "1         18.2          0.0      0.96  1.0         1  None        True  \n",
       "2         18.2          0.0      0.96  1.0         1  None        True  \n",
       "3         18.2          0.0      0.96  1.0         1  None        True  "
      ]
     },
     "execution_count": 52,
     "metadata": {},
     "output_type": "execute_result"
    }
   ],
   "source": [
    "net.line"
   ]
  },
  {
   "cell_type": "code",
   "execution_count": 53,
   "metadata": {},
   "outputs": [
    {
     "data": {
      "text/html": [
       "<div>\n",
       "<style scoped>\n",
       "    .dataframe tbody tr th:only-of-type {\n",
       "        vertical-align: middle;\n",
       "    }\n",
       "\n",
       "    .dataframe tbody tr th {\n",
       "        vertical-align: top;\n",
       "    }\n",
       "\n",
       "    .dataframe thead th {\n",
       "        text-align: right;\n",
       "    }\n",
       "</style>\n",
       "<table border=\"1\" class=\"dataframe\">\n",
       "  <thead>\n",
       "    <tr style=\"text-align: right;\">\n",
       "      <th></th>\n",
       "      <th>name</th>\n",
       "      <th>vn_kv</th>\n",
       "      <th>type</th>\n",
       "      <th>zone</th>\n",
       "      <th>in_service</th>\n",
       "    </tr>\n",
       "  </thead>\n",
       "  <tbody>\n",
       "    <tr>\n",
       "      <th>0</th>\n",
       "      <td>Bus 1</td>\n",
       "      <td>230.0</td>\n",
       "      <td>b</td>\n",
       "      <td>None</td>\n",
       "      <td>True</td>\n",
       "    </tr>\n",
       "    <tr>\n",
       "      <th>1</th>\n",
       "      <td>Bus 2</td>\n",
       "      <td>230.0</td>\n",
       "      <td>b</td>\n",
       "      <td>None</td>\n",
       "      <td>True</td>\n",
       "    </tr>\n",
       "    <tr>\n",
       "      <th>2</th>\n",
       "      <td>Bus 3</td>\n",
       "      <td>230.0</td>\n",
       "      <td>b</td>\n",
       "      <td>None</td>\n",
       "      <td>True</td>\n",
       "    </tr>\n",
       "    <tr>\n",
       "      <th>3</th>\n",
       "      <td>Bus 4</td>\n",
       "      <td>230.0</td>\n",
       "      <td>b</td>\n",
       "      <td>None</td>\n",
       "      <td>True</td>\n",
       "    </tr>\n",
       "  </tbody>\n",
       "</table>\n",
       "</div>"
      ],
      "text/plain": [
       "    name  vn_kv type  zone  in_service\n",
       "0  Bus 1  230.0    b  None        True\n",
       "1  Bus 2  230.0    b  None        True\n",
       "2  Bus 3  230.0    b  None        True\n",
       "3  Bus 4  230.0    b  None        True"
      ]
     },
     "execution_count": 53,
     "metadata": {},
     "output_type": "execute_result"
    }
   ],
   "source": [
    "net.bus"
   ]
  },
  {
   "cell_type": "markdown",
   "metadata": {},
   "source": [
    "Imagine I want to access the voltage of the 4th bus from my network"
   ]
  },
  {
   "cell_type": "markdown",
   "metadata": {},
   "source": [
    "Remember of the label-based selection `loc`"
   ]
  },
  {
   "cell_type": "code",
   "execution_count": 54,
   "metadata": {},
   "outputs": [
    {
     "data": {
      "text/plain": [
       "230.0"
      ]
     },
     "execution_count": 54,
     "metadata": {},
     "output_type": "execute_result"
    }
   ],
   "source": [
    "net.bus.loc[3, 'vn_kv']"
   ]
  },
  {
   "cell_type": "code",
   "execution_count": 55,
   "metadata": {},
   "outputs": [],
   "source": [
    "pp.runpp(net)"
   ]
  },
  {
   "cell_type": "code",
   "execution_count": 56,
   "metadata": {},
   "outputs": [
    {
     "data": {
      "text/html": [
       "<div>\n",
       "<style scoped>\n",
       "    .dataframe tbody tr th:only-of-type {\n",
       "        vertical-align: middle;\n",
       "    }\n",
       "\n",
       "    .dataframe tbody tr th {\n",
       "        vertical-align: top;\n",
       "    }\n",
       "\n",
       "    .dataframe thead th {\n",
       "        text-align: right;\n",
       "    }\n",
       "</style>\n",
       "<table border=\"1\" class=\"dataframe\">\n",
       "  <thead>\n",
       "    <tr style=\"text-align: right;\">\n",
       "      <th></th>\n",
       "      <th>vm_pu</th>\n",
       "      <th>va_degree</th>\n",
       "      <th>p_mw</th>\n",
       "      <th>q_mvar</th>\n",
       "    </tr>\n",
       "  </thead>\n",
       "  <tbody>\n",
       "    <tr>\n",
       "      <th>0</th>\n",
       "      <td>1.000000</td>\n",
       "      <td>0.000000</td>\n",
       "      <td>-138.16145</td>\n",
       "      <td>-198.118668</td>\n",
       "    </tr>\n",
       "    <tr>\n",
       "      <th>1</th>\n",
       "      <td>0.944564</td>\n",
       "      <td>-0.565924</td>\n",
       "      <td>170.00000</td>\n",
       "      <td>105.356538</td>\n",
       "    </tr>\n",
       "    <tr>\n",
       "      <th>2</th>\n",
       "      <td>0.946120</td>\n",
       "      <td>-1.666785</td>\n",
       "      <td>200.00000</td>\n",
       "      <td>123.948868</td>\n",
       "    </tr>\n",
       "    <tr>\n",
       "      <th>3</th>\n",
       "      <td>0.949446</td>\n",
       "      <td>2.663621</td>\n",
       "      <td>-238.00000</td>\n",
       "      <td>49.579547</td>\n",
       "    </tr>\n",
       "  </tbody>\n",
       "</table>\n",
       "</div>"
      ],
      "text/plain": [
       "      vm_pu  va_degree       p_mw      q_mvar\n",
       "0  1.000000   0.000000 -138.16145 -198.118668\n",
       "1  0.944564  -0.565924  170.00000  105.356538\n",
       "2  0.946120  -1.666785  200.00000  123.948868\n",
       "3  0.949446   2.663621 -238.00000   49.579547"
      ]
     },
     "execution_count": 56,
     "metadata": {},
     "output_type": "execute_result"
    }
   ],
   "source": [
    "net.res_bus"
   ]
  },
  {
   "cell_type": "code",
   "execution_count": 57,
   "metadata": {},
   "outputs": [
    {
     "data": {
      "text/html": [
       "<div>\n",
       "<style scoped>\n",
       "    .dataframe tbody tr th:only-of-type {\n",
       "        vertical-align: middle;\n",
       "    }\n",
       "\n",
       "    .dataframe tbody tr th {\n",
       "        vertical-align: top;\n",
       "    }\n",
       "\n",
       "    .dataframe thead th {\n",
       "        text-align: right;\n",
       "    }\n",
       "</style>\n",
       "<table border=\"1\" class=\"dataframe\">\n",
       "  <thead>\n",
       "    <tr style=\"text-align: right;\">\n",
       "      <th></th>\n",
       "      <th>p_mw</th>\n",
       "      <th>q_mvar</th>\n",
       "    </tr>\n",
       "  </thead>\n",
       "  <tbody>\n",
       "    <tr>\n",
       "      <th>0</th>\n",
       "      <td>50.0</td>\n",
       "      <td>30.987217</td>\n",
       "    </tr>\n",
       "    <tr>\n",
       "      <th>1</th>\n",
       "      <td>170.0</td>\n",
       "      <td>105.356538</td>\n",
       "    </tr>\n",
       "    <tr>\n",
       "      <th>2</th>\n",
       "      <td>200.0</td>\n",
       "      <td>123.948868</td>\n",
       "    </tr>\n",
       "    <tr>\n",
       "      <th>3</th>\n",
       "      <td>80.0</td>\n",
       "      <td>49.579547</td>\n",
       "    </tr>\n",
       "  </tbody>\n",
       "</table>\n",
       "</div>"
      ],
      "text/plain": [
       "    p_mw      q_mvar\n",
       "0   50.0   30.987217\n",
       "1  170.0  105.356538\n",
       "2  200.0  123.948868\n",
       "3   80.0   49.579547"
      ]
     },
     "execution_count": 57,
     "metadata": {},
     "output_type": "execute_result"
    }
   ],
   "source": [
    "net.res_load"
   ]
  },
  {
   "cell_type": "code",
   "execution_count": 58,
   "metadata": {},
   "outputs": [
    {
     "data": {
      "text/html": [
       "<div>\n",
       "<style scoped>\n",
       "    .dataframe tbody tr th:only-of-type {\n",
       "        vertical-align: middle;\n",
       "    }\n",
       "\n",
       "    .dataframe tbody tr th {\n",
       "        vertical-align: top;\n",
       "    }\n",
       "\n",
       "    .dataframe thead th {\n",
       "        text-align: right;\n",
       "    }\n",
       "</style>\n",
       "<table border=\"1\" class=\"dataframe\">\n",
       "  <thead>\n",
       "    <tr style=\"text-align: right;\">\n",
       "      <th></th>\n",
       "      <th>p_mw</th>\n",
       "      <th>q_mvar</th>\n",
       "    </tr>\n",
       "  </thead>\n",
       "  <tbody>\n",
       "    <tr>\n",
       "      <th>0</th>\n",
       "      <td>318.0</td>\n",
       "      <td>0.0</td>\n",
       "    </tr>\n",
       "  </tbody>\n",
       "</table>\n",
       "</div>"
      ],
      "text/plain": [
       "    p_mw  q_mvar\n",
       "0  318.0     0.0"
      ]
     },
     "execution_count": 58,
     "metadata": {},
     "output_type": "execute_result"
    }
   ],
   "source": [
    "net.res_sgen"
   ]
  },
  {
   "cell_type": "code",
   "execution_count": 59,
   "metadata": {},
   "outputs": [
    {
     "data": {
      "text/html": [
       "<div>\n",
       "<style scoped>\n",
       "    .dataframe tbody tr th:only-of-type {\n",
       "        vertical-align: middle;\n",
       "    }\n",
       "\n",
       "    .dataframe tbody tr th {\n",
       "        vertical-align: top;\n",
       "    }\n",
       "\n",
       "    .dataframe thead th {\n",
       "        text-align: right;\n",
       "    }\n",
       "</style>\n",
       "<table border=\"1\" class=\"dataframe\">\n",
       "  <thead>\n",
       "    <tr style=\"text-align: right;\">\n",
       "      <th></th>\n",
       "      <th>p_mw</th>\n",
       "      <th>q_mvar</th>\n",
       "    </tr>\n",
       "  </thead>\n",
       "  <tbody>\n",
       "    <tr>\n",
       "      <th>0</th>\n",
       "      <td>188.16145</td>\n",
       "      <td>229.105885</td>\n",
       "    </tr>\n",
       "  </tbody>\n",
       "</table>\n",
       "</div>"
      ],
      "text/plain": [
       "        p_mw      q_mvar\n",
       "0  188.16145  229.105885"
      ]
     },
     "execution_count": 59,
     "metadata": {},
     "output_type": "execute_result"
    }
   ],
   "source": [
    "net.res_ext_grid"
   ]
  },
  {
   "cell_type": "markdown",
   "metadata": {},
   "source": [
    "What is the efficiency of the grid?"
   ]
  },
  {
   "cell_type": "code",
   "execution_count": 60,
   "metadata": {},
   "outputs": [
    {
     "data": {
      "text/plain": [
       "500.0"
      ]
     },
     "execution_count": 60,
     "metadata": {},
     "output_type": "execute_result"
    }
   ],
   "source": [
    "dem = sum(net.res_load['p_mw'])\n",
    "dem"
   ]
  },
  {
   "cell_type": "code",
   "execution_count": 61,
   "metadata": {},
   "outputs": [
    {
     "data": {
      "text/plain": [
       "506.161449665067"
      ]
     },
     "execution_count": 61,
     "metadata": {},
     "output_type": "execute_result"
    }
   ],
   "source": [
    "inj = sum(net.res_sgen['p_mw']) + sum(net.res_ext_grid['p_mw'])\n",
    "inj "
   ]
  },
  {
   "cell_type": "code",
   "execution_count": 62,
   "metadata": {},
   "outputs": [
    {
     "data": {
      "text/plain": [
       "0.9878271060169752"
      ]
     },
     "execution_count": 62,
     "metadata": {},
     "output_type": "execute_result"
    }
   ],
   "source": [
    "eff = dem/inj\n",
    "eff"
   ]
  },
  {
   "cell_type": "markdown",
   "metadata": {},
   "source": [
    "Create a function that gives me the efficiency of the power system:"
   ]
  },
  {
   "cell_type": "code",
   "execution_count": 63,
   "metadata": {},
   "outputs": [],
   "source": [
    "def get_eff(net):\n",
    "    return sum(net.res_load['p_mw'])/(sum(net.res_sgen['p_mw']) + sum(net.res_ext_grid['p_mw']))"
   ]
  },
  {
   "cell_type": "markdown",
   "metadata": {},
   "source": [
    "# Transformer"
   ]
  },
  {
   "attachments": {
    "image-2.png": {
     "image/png": "[encoded data removed]"
    }
   },
   "cell_type": "markdown",
   "metadata": {},
   "source": [
    "![image-2.png](attachment:image-2.png)"
   ]
  },
  {
   "cell_type": "markdown",
   "metadata": {},
   "source": [
    "                     "
   ]
  },
  {
   "cell_type": "markdown",
   "metadata": {},
   "source": [
    "<img style=\"float: center;\" src=\"transformer_input.png\" width=\"80%\">  "
   ]
  },
  {
   "cell_type": "code",
   "execution_count": 64,
   "metadata": {},
   "outputs": [],
   "source": [
    "net1 = pp.pandapowerNet(copy.deepcopy(net)) #Let's create a new net"
   ]
  },
  {
   "cell_type": "code",
   "execution_count": 65,
   "metadata": {},
   "outputs": [
    {
     "data": {
      "text/plain": [
       "4"
      ]
     },
     "execution_count": 65,
     "metadata": {},
     "output_type": "execute_result"
    }
   ],
   "source": [
    "bus5 = pp.create_bus(net1, name=\"Bus 5\", vn_kv=25)\n",
    "\n",
    "# Bus 5 Load\n",
    "p_mw = 80\n",
    "q_mvar=get_reactive(p_mw, PF=0.6)\n",
    "pp.create_load(net1, bus5, p_mw, q_mvar)"
   ]
  },
  {
   "cell_type": "markdown",
   "metadata": {},
   "source": [
    "As before, we have to characterize it through the apposite function. "
   ]
  },
  {
   "cell_type": "markdown",
   "metadata": {},
   "source": [
    "create_transformer_from_parameters : https://pandapower.readthedocs.io/en/v2.4.0/elements/trafo.html"
   ]
  },
  {
   "cell_type": "markdown",
   "metadata": {},
   "source": [
    "<img style=\"float: center;\" src=\"transformer_function.png\" width=\"80%\">                               "
   ]
  },
  {
   "cell_type": "markdown",
   "metadata": {},
   "source": [
    "I have to make assumption on parameters such as the real part of the relative short-circuit voltage, iron losses and open loop losses (=0)."
   ]
  },
  {
   "cell_type": "code",
   "execution_count": 66,
   "metadata": {},
   "outputs": [
    {
     "data": {
      "text/plain": [
       "0"
      ]
     },
     "execution_count": 66,
     "metadata": {},
     "output_type": "execute_result"
    }
   ],
   "source": [
    "pp.create_transformer_from_parameters(net1, hv_bus = bus3, lv_bus = bus5, sn_mva = 150, vn_hv_kv = net1.bus.iloc[2].vn_kv, vn_lv_kv = net1.bus.iloc[4].vn_kv, vk_percent = 7, vkr_percent = 0, pfe_kw = 0, i0_percent = 0)"
   ]
  },
  {
   "cell_type": "markdown",
   "metadata": {},
   "source": [
    "<img style=\"float: center;\" src=\"transformer.png\" width=\"90%\">  "
   ]
  },
  {
   "cell_type": "code",
   "execution_count": 67,
   "metadata": {},
   "outputs": [],
   "source": [
    "pp.runpp(net1)"
   ]
  },
  {
   "cell_type": "code",
   "execution_count": 68,
   "metadata": {},
   "outputs": [
    {
     "data": {
      "text/html": [
       "<div>\n",
       "<style scoped>\n",
       "    .dataframe tbody tr th:only-of-type {\n",
       "        vertical-align: middle;\n",
       "    }\n",
       "\n",
       "    .dataframe tbody tr th {\n",
       "        vertical-align: top;\n",
       "    }\n",
       "\n",
       "    .dataframe thead th {\n",
       "        text-align: right;\n",
       "    }\n",
       "</style>\n",
       "<table border=\"1\" class=\"dataframe\">\n",
       "  <thead>\n",
       "    <tr style=\"text-align: right;\">\n",
       "      <th></th>\n",
       "      <th>vm_pu</th>\n",
       "      <th>va_degree</th>\n",
       "      <th>p_mw</th>\n",
       "      <th>q_mvar</th>\n",
       "    </tr>\n",
       "  </thead>\n",
       "  <tbody>\n",
       "    <tr>\n",
       "      <th>0</th>\n",
       "      <td>1.000000</td>\n",
       "      <td>0.000000</td>\n",
       "      <td>-224.427332</td>\n",
       "      <td>-353.544755</td>\n",
       "    </tr>\n",
       "    <tr>\n",
       "      <th>1</th>\n",
       "      <td>0.926313</td>\n",
       "      <td>-0.863767</td>\n",
       "      <td>170.000000</td>\n",
       "      <td>105.356538</td>\n",
       "    </tr>\n",
       "    <tr>\n",
       "      <th>2</th>\n",
       "      <td>0.896110</td>\n",
       "      <td>-2.854493</td>\n",
       "      <td>200.000000</td>\n",
       "      <td>123.948868</td>\n",
       "    </tr>\n",
       "    <tr>\n",
       "      <th>3</th>\n",
       "      <td>0.918953</td>\n",
       "      <td>2.303075</td>\n",
       "      <td>-238.000000</td>\n",
       "      <td>49.579547</td>\n",
       "    </tr>\n",
       "    <tr>\n",
       "      <th>4</th>\n",
       "      <td>0.835410</td>\n",
       "      <td>-5.712994</td>\n",
       "      <td>80.000000</td>\n",
       "      <td>106.666667</td>\n",
       "    </tr>\n",
       "  </tbody>\n",
       "</table>\n",
       "</div>"
      ],
      "text/plain": [
       "      vm_pu  va_degree        p_mw      q_mvar\n",
       "0  1.000000   0.000000 -224.427332 -353.544755\n",
       "1  0.926313  -0.863767  170.000000  105.356538\n",
       "2  0.896110  -2.854493  200.000000  123.948868\n",
       "3  0.918953   2.303075 -238.000000   49.579547\n",
       "4  0.835410  -5.712994   80.000000  106.666667"
      ]
     },
     "execution_count": 68,
     "metadata": {},
     "output_type": "execute_result"
    }
   ],
   "source": [
    "net1.res_bus"
   ]
  },
  {
   "cell_type": "markdown",
   "metadata": {},
   "source": [
    "Several buses are now out of voltage acceptable range (+-10%)!"
   ]
  },
  {
   "cell_type": "markdown",
   "metadata": {},
   "source": [
    "What is the new efficiency of the system?"
   ]
  },
  {
   "cell_type": "code",
   "execution_count": 69,
   "metadata": {},
   "outputs": [
    {
     "data": {
      "text/plain": [
       "0.9790230275930487"
      ]
     },
     "execution_count": 69,
     "metadata": {},
     "output_type": "execute_result"
    }
   ],
   "source": [
    "get_eff(net1)"
   ]
  },
  {
   "cell_type": "markdown",
   "metadata": {},
   "source": [
    "Lower than previously!"
   ]
  },
  {
   "cell_type": "markdown",
   "metadata": {},
   "source": [
    "# Shunt Reactance"
   ]
  },
  {
   "attachments": {
    "image-2.png": {
     "image/png": "[encoded data removed]"
    }
   },
   "cell_type": "markdown",
   "metadata": {},
   "source": [
    "![image-2.png](attachment:image-2.png)"
   ]
  },
  {
   "cell_type": "code",
   "execution_count": 70,
   "metadata": {},
   "outputs": [],
   "source": [
    "net2 = pp.pandapowerNet(copy.deepcopy(net1))"
   ]
  },
  {
   "cell_type": "markdown",
   "metadata": {},
   "source": [
    "How much shunt reactance we are going to add to on bus 5 in order to lower the undervoltage?"
   ]
  },
  {
   "cell_type": "code",
   "execution_count": 71,
   "metadata": {},
   "outputs": [
    {
     "data": {
      "text/plain": [
       "0"
      ]
     },
     "execution_count": 71,
     "metadata": {},
     "output_type": "execute_result"
    }
   ],
   "source": [
    "pp.create_shunt(net2, bus5, q_mvar = -90, p_mw=0.0)"
   ]
  },
  {
   "cell_type": "code",
   "execution_count": 72,
   "metadata": {},
   "outputs": [],
   "source": [
    "pp.runpp(net2)"
   ]
  },
  {
   "cell_type": "code",
   "execution_count": 73,
   "metadata": {},
   "outputs": [
    {
     "data": {
      "text/html": [
       "<div>\n",
       "<style scoped>\n",
       "    .dataframe tbody tr th:only-of-type {\n",
       "        vertical-align: middle;\n",
       "    }\n",
       "\n",
       "    .dataframe tbody tr th {\n",
       "        vertical-align: top;\n",
       "    }\n",
       "\n",
       "    .dataframe thead th {\n",
       "        text-align: right;\n",
       "    }\n",
       "</style>\n",
       "<table border=\"1\" class=\"dataframe\">\n",
       "  <thead>\n",
       "    <tr style=\"text-align: right;\">\n",
       "      <th></th>\n",
       "      <th>vm_pu</th>\n",
       "      <th>va_degree</th>\n",
       "      <th>p_mw</th>\n",
       "      <th>q_mvar</th>\n",
       "    </tr>\n",
       "  </thead>\n",
       "  <tbody>\n",
       "    <tr>\n",
       "      <th>0</th>\n",
       "      <td>1.000000</td>\n",
       "      <td>0.000000</td>\n",
       "      <td>-221.059661</td>\n",
       "      <td>-251.345556</td>\n",
       "    </tr>\n",
       "    <tr>\n",
       "      <th>1</th>\n",
       "      <td>0.937454</td>\n",
       "      <td>-0.980412</td>\n",
       "      <td>170.000000</td>\n",
       "      <td>105.356538</td>\n",
       "    </tr>\n",
       "    <tr>\n",
       "      <th>2</th>\n",
       "      <td>0.926388</td>\n",
       "      <td>-3.059521</td>\n",
       "      <td>200.000000</td>\n",
       "      <td>123.948868</td>\n",
       "    </tr>\n",
       "    <tr>\n",
       "      <th>3</th>\n",
       "      <td>0.937407</td>\n",
       "      <td>1.990091</td>\n",
       "      <td>-238.000000</td>\n",
       "      <td>49.579547</td>\n",
       "    </tr>\n",
       "    <tr>\n",
       "      <th>4</th>\n",
       "      <td>0.908882</td>\n",
       "      <td>-5.600854</td>\n",
       "      <td>80.000000</td>\n",
       "      <td>32.320756</td>\n",
       "    </tr>\n",
       "  </tbody>\n",
       "</table>\n",
       "</div>"
      ],
      "text/plain": [
       "      vm_pu  va_degree        p_mw      q_mvar\n",
       "0  1.000000   0.000000 -221.059661 -251.345556\n",
       "1  0.937454  -0.980412  170.000000  105.356538\n",
       "2  0.926388  -3.059521  200.000000  123.948868\n",
       "3  0.937407   1.990091 -238.000000   49.579547\n",
       "4  0.908882  -5.600854   80.000000   32.320756"
      ]
     },
     "execution_count": 73,
     "metadata": {},
     "output_type": "execute_result"
    }
   ],
   "source": [
    "net2.res_bus"
   ]
  },
  {
   "cell_type": "code",
   "execution_count": 74,
   "metadata": {},
   "outputs": [
    {
     "data": {
      "text/plain": [
       "0.9846201305968568"
      ]
     },
     "execution_count": 74,
     "metadata": {},
     "output_type": "execute_result"
    }
   ],
   "source": [
    "get_eff(net2)"
   ]
  },
  {
   "cell_type": "markdown",
   "metadata": {},
   "source": [
    "Let's suppose we want to increase the load at bus 2 (without changing the PF). "
   ]
  },
  {
   "cell_type": "markdown",
   "metadata": {},
   "source": [
    "At which level of the load the voltage at this bus goes below 0.9 p.u.?"
   ]
  },
  {
   "cell_type": "code",
   "execution_count": 75,
   "metadata": {},
   "outputs": [],
   "source": [
    "net3 = pp.pandapowerNet(copy.deepcopy(net2))"
   ]
  },
  {
   "cell_type": "markdown",
   "metadata": {},
   "source": [
    "Let's use a while cycle:"
   ]
  },
  {
   "cell_type": "code",
   "execution_count": 76,
   "metadata": {},
   "outputs": [],
   "source": [
    "load = []\n",
    "voltage = []\n",
    "df = []\n",
    "S = pd.DataFrame(columns = ['Load [MW]','Voltage Bus 2 [kV]']) #The Dataframe has to be initialized if we want to append!\n",
    "\n",
    "while net3.res_bus.loc[1, 'vm_pu'] > 0.9:\n",
    "    net3.load.loc[1,'p_mw'] = net3.load.loc[1,'p_mw'] + 10 #increase the load\n",
    "    net3.load.loc[1,'q_mvar'] = get_reactive(net3.load.loc[1,'p_mw'],PF) #update the reactive load\n",
    "    try:\n",
    "        pp.runpp(net3) # repeat the powerflow\n",
    "        load = net3.load.loc[1,'p_mw']\n",
    "        voltage = net3.res_bus.loc[1,'vm_pu']\n",
    "        #Create a dataframe with the new solution\n",
    "        df = pd.DataFrame({'Load [MW]': [load], 'Voltage Bus 2 [kV]': [voltage] })\n",
    "        S = S.append(df, ignore_index = True)\n",
    "    except:\n",
    "        pass"
   ]
  },
  {
   "cell_type": "code",
   "execution_count": 77,
   "metadata": {},
   "outputs": [
    {
     "data": {
      "text/plain": [
       "720.0"
      ]
     },
     "execution_count": 77,
     "metadata": {},
     "output_type": "execute_result"
    }
   ],
   "source": [
    "net3.load.loc[1,'p_mw']"
   ]
  },
  {
   "cell_type": "markdown",
   "metadata": {},
   "source": [
    "Let's plot the result:"
   ]
  },
  {
   "cell_type": "code",
   "execution_count": 78,
   "metadata": {},
   "outputs": [
    {
     "data": {
      "text/plain": [
       "Text(0.5, 1.0, 'Evolution of the Voltage with increasing Load')"
      ]
     },
     "execution_count": 78,
     "metadata": {},
     "output_type": "execute_result"
    },
    {
     "data": {
      "image/png": "[encoded data removed]",
      "text/plain": [
       "<Figure size 432x288 with 1 Axes>"
      ]
     },
     "metadata": {
      "needs_background": "light"
     },
     "output_type": "display_data"
    }
   ],
   "source": [
    "plt.plot(S.loc[:,'Load [MW]'], S.loc[:, 'Voltage Bus 2 [kV]'])\n",
    "plt.xlabel('Load [MW]') \n",
    "plt.ylabel('Voltage Bus 2 [kV]')  \n",
    "plt.title('Evolution of the Voltage with increasing Load')"
   ]
  },
  {
   "cell_type": "markdown",
   "metadata": {},
   "source": [
    "Increasing too much the load can jeopardize the stability of the system."
   ]
  },
  {
   "cell_type": "markdown",
   "metadata": {},
   "source": [
    "To what degree can we increase the load until the system is unstable?"
   ]
  },
  {
   "cell_type": "code",
   "execution_count": 79,
   "metadata": {},
   "outputs": [],
   "source": [
    "net3 = pp.pandapowerNet(copy.deepcopy(net2))"
   ]
  },
  {
   "cell_type": "code",
   "execution_count": 80,
   "metadata": {},
   "outputs": [],
   "source": [
    "def get_evolution_voltage(net):\n",
    "    load = []\n",
    "    voltage = []\n",
    "    df = []\n",
    "    S = pd.DataFrame(columns = ['Load [MW]','Voltage Bus 2 [kV]']) #The Dataframe has to be initialized if we want to append!\n",
    "    while net.res_bus.loc[1, 'vm_pu'] > 0.7:\n",
    "        net.load.loc[1,'p_mw'] = net.load.loc[1,'p_mw'] + 10 #increase the load\n",
    "        net.load.loc[1,'q_mvar'] = get_reactive(net.load.loc[1,'p_mw'],PF) #update the reactive load\n",
    "        try:\n",
    "            pp.runpp(net) # repeat the powerflow\n",
    "            load = net.load.loc[1,'p_mw']\n",
    "            voltage = net.res_bus.loc[1,'vm_pu']\n",
    "            #Create a dataframe with the new solution\n",
    "            df = pd.DataFrame({'Load [MW]': [load], 'Voltage Bus 2 [kV]': [voltage] })\n",
    "            S = S.append(df, ignore_index = True)\n",
    "        except:\n",
    "            pass\n",
    "    return [S,voltage]"
   ]
  },
  {
   "cell_type": "code",
   "execution_count": 81,
   "metadata": {},
   "outputs": [],
   "source": [
    "[S,voltage] = get_evolution_voltage(net3)"
   ]
  },
  {
   "cell_type": "code",
   "execution_count": 82,
   "metadata": {},
   "outputs": [
    {
     "data": {
      "text/plain": [
       "0.6964528886926955"
      ]
     },
     "execution_count": 82,
     "metadata": {},
     "output_type": "execute_result"
    }
   ],
   "source": [
    "voltage"
   ]
  },
  {
   "cell_type": "code",
   "execution_count": 83,
   "metadata": {},
   "outputs": [
    {
     "data": {
      "text/plain": [
       "Text(0.5, 1.0, 'Evolution of the Voltage with increasing Load')"
      ]
     },
     "execution_count": 83,
     "metadata": {},
     "output_type": "execute_result"
    },
    {
     "data": {
      "image/png": "[encoded data removed]",
      "text/plain": [
       "<Figure size 432x288 with 1 Axes>"
      ]
     },
     "metadata": {
      "needs_background": "light"
     },
     "output_type": "display_data"
    }
   ],
   "source": [
    "plt.plot(S.loc[:,'Load [MW]'], S.loc[:, 'Voltage Bus 2 [kV]'])\n",
    "plt.xlabel('Load [MW]') \n",
    "plt.ylabel('Voltage Bus 2 [kV]')  \n",
    "plt.title('Evolution of the Voltage with increasing Load')"
   ]
  },
  {
   "cell_type": "markdown",
   "metadata": {},
   "source": [
    "What if we change the power factor?"
   ]
  },
  {
   "cell_type": "code",
   "execution_count": 84,
   "metadata": {},
   "outputs": [],
   "source": [
    "net4 = pp.pandapowerNet(copy.deepcopy(net2))"
   ]
  },
  {
   "cell_type": "code",
   "execution_count": 85,
   "metadata": {},
   "outputs": [
    {
     "data": {
      "text/plain": [
       "<matplotlib.legend.Legend at 0x20cdebf4ac8>"
      ]
     },
     "execution_count": 85,
     "metadata": {},
     "output_type": "execute_result"
    },
    {
     "data": {
      "image/png": "[encoded data removed]",
      "text/plain": [
       "<Figure size 432x288 with 1 Axes>"
      ]
     },
     "metadata": {
      "needs_background": "light"
     },
     "output_type": "display_data"
    }
   ],
   "source": [
    "PF = 0.85\n",
    "while PF <= 1:\n",
    "    net4 = pp.pandapowerNet(copy.deepcopy(net2)) #reinitialize the network\n",
    "    net4.load.loc[1,'q_mvar'] = get_reactive(net4.load.loc[1,'p_mw'],PF) #update the reactive load\n",
    "    pp.runpp(net4)\n",
    "    [S,voltage] = get_evolution_voltage(net4)\n",
    "    PF = PF + 0.05\n",
    "    plt.plot(S.loc[:,'Load [MW]'], S.loc[:, 'Voltage Bus 2 [kV]'])\n",
    "\n",
    "plt.xlabel('Load [MW]') \n",
    "plt.ylabel('Voltage Bus 2 [kV]')  \n",
    "plt.title('Evolution of the Voltage with increasing Load')\n",
    "plt.legend([0.85,0.9,0.95,1])"
   ]
  }
 ],
 "metadata": {
  "kernelspec": {
   "display_name": "Python 3",
   "language": "python",
   "name": "python3"
  },
  "language_info": {
   "codemirror_mode": {
    "name": "ipython",
    "version": 3
   },
   "file_extension": ".py",
   "mimetype": "text/x-python",
   "name": "python",
   "nbconvert_exporter": "python",
   "pygments_lexer": "ipython3",
   "version": "3.7.9"
  }
 },
 "nbformat": 4,
 "nbformat_minor": 4
}
